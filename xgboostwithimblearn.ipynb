{
 "cells": [
  {
   "cell_type": "code",
   "execution_count": 2,
   "id": "df0a1aa0-d1f6-4bb0-9978-3bdd9f6a8d7f",
   "metadata": {},
   "outputs": [
    {
     "name": "stdout",
     "output_type": "stream",
     "text": [
      "XGBoost with Hyperparameters Accuracy: 0.7058965303076652\n",
      "              precision    recall  f1-score   support\n",
      "\n",
      "           0       0.72      0.76      0.74     59879\n",
      "           1       0.68      0.64      0.66     47998\n",
      "\n",
      "    accuracy                           0.71    107877\n",
      "   macro avg       0.70      0.70      0.70    107877\n",
      "weighted avg       0.70      0.71      0.70    107877\n",
      "\n",
      "XGBoost without Hyperparameters Accuracy: 0.6888493376716075\n",
      "              precision    recall  f1-score   support\n",
      "\n",
      "           0       0.71      0.74      0.72     59879\n",
      "           1       0.66      0.63      0.64     47998\n",
      "\n",
      "    accuracy                           0.69    107877\n",
      "   macro avg       0.68      0.68      0.68    107877\n",
      "weighted avg       0.69      0.69      0.69    107877\n",
      "\n"
     ]
    },
    {
     "data": {
      "image/png": "[encoded data removed]",
      "text/plain": [
       "<Figure size 640x480 with 1 Axes>"
      ]
     },
     "metadata": {},
     "output_type": "display_data"
    },
    {
     "name": "stdout",
     "output_type": "stream",
     "text": [
      "CPU times: total: 1min 23s\n",
      "Wall time: 28.8 s\n"
     ]
    }
   ],
   "source": [
    "%%time\n",
    "# Import necessary libraries\n",
    "import pandas as pd\n",
    "import numpy as np\n",
    "from sklearn.model_selection import train_test_split\n",
    "from sklearn.preprocessing import LabelEncoder, StandardScaler\n",
    "from xgboost import XGBClassifier  \n",
    "from sklearn.metrics import accuracy_score, classification_report\n",
    "from imblearn.over_sampling import SMOTE\n",
    "import matplotlib.pyplot as plt\n",
    "\n",
    "# Load and read the dataset\n",
    "data = pd.read_csv(r\"D:\\users\\m_ozdemir15\\Desktop\\Okul\\Y.Lisans\\2.Dönem\\Makine Öğrenmesi\\proje\\AirlinesDelayed.csv\")\n",
    "data.head()\n",
    "\n",
    "# Data Preprocessing Step\n",
    "\n",
    "# Handle missing values, remove if necessary\n",
    "data.dropna(inplace=True)\n",
    "\n",
    "# Encode categorical variables\n",
    "label_encoders = {}\n",
    "categorical_columns = ['Airline', 'AirportFrom', 'AirportTo']\n",
    "for column in categorical_columns:\n",
    "    le = LabelEncoder()\n",
    "    data[column] = le.fit_transform(data[column])\n",
    "    label_encoders[column] = le\n",
    "\n",
    "# Split the data into X (features) and y (target)\n",
    "X = data.drop('Delay', axis=1)\n",
    "y = data['Delay']\n",
    "\n",
    "# Split the data into Training and Test sets\n",
    "X_train, X_test, y_train, y_test = train_test_split(X, y, test_size=0.2, random_state=42)\n",
    "\n",
    "# Handle Imbalanced Data using SMOTE\n",
    "smote = SMOTE(random_state=42)\n",
    "X_train, y_train = smote.fit_resample(X_train, y_train)\n",
    "\n",
    "# Feature Scaling\n",
    "scaler = StandardScaler()\n",
    "X_train = scaler.fit_transform(X_train)\n",
    "X_test = scaler.transform(X_test)\n",
    "\n",
    "# Model Evaluation and Training for XGBoost with hyperparameters\n",
    "model_xgb1 = XGBClassifier(learning_rate=0.19, n_estimators=97, max_depth=11, subsample=0.90, colsample_bytree=0.83)  # XGBoost hyperparameter model parameters\n",
    "model_xgb1.fit(X_train, y_train)  # XGBoost model training\n",
    "\n",
    "# XGBoost Model Evaluation\n",
    "y_pred_xgb1 = model_xgb1.predict(X_test)\n",
    "accuracy_xgb1 = accuracy_score(y_test, y_pred_xgb1)\n",
    "report_xgb1 = classification_report(y_test, y_pred_xgb1)\n",
    "\n",
    "print(f'XGBoost with Hyperparameters Accuracy: {accuracy_xgb1}')\n",
    "print(report_xgb1)\n",
    "\n",
    "# Model Evaluation and Training for XGBoost without hyperparameters\n",
    "model_xgb2 = XGBClassifier()  # Create XGBoost model without hyperparameters\n",
    "\n",
    "model_xgb2.fit(X_train, y_train)  # Train XGBoost model\n",
    "\n",
    "# XGBoost Model Evaluation\n",
    "y_pred_xgb2 = model_xgb2.predict(X_test)\n",
    "accuracy_xgb2 = accuracy_score(y_test, y_pred_xgb2)\n",
    "report_xgb2 = classification_report(y_test, y_pred_xgb2)\n",
    "\n",
    "print(f'XGBoost without Hyperparameters Accuracy: {accuracy_xgb2}')\n",
    "print(report_xgb2)\n",
    "\n",
    "# Define accuracy for both models\n",
    "accuracy = [accuracy_xgb1, accuracy_xgb2]\n",
    "\n",
    "# Define labels for both models\n",
    "labels = ['XGBoost with Hyperparameters', 'XGBoost without Hyperparameters']\n",
    "\n",
    "plt.bar(labels, accuracy)\n",
    "plt.xlabel('Model')\n",
    "plt.ylabel('Accuracy')\n",
    "plt.title('Model Accuracy Comparison')\n",
    "plt.show()\n"
   ]
  },
  {
   "cell_type": "code",
   "execution_count": null,
   "id": "3f61628b-25d3-4690-ba17-9de03a7bd81c",
   "metadata": {},
   "outputs": [],
   "source": []
  }
 ],
 "metadata": {
  "kernelspec": {
   "display_name": "Python 3 (ipykernel)",
   "language": "python",
   "name": "python3"
  },
  "language_info": {
   "codemirror_mode": {
    "name": "ipython",
    "version": 3
   },
   "file_extension": ".py",
   "mimetype": "text/x-python",
   "name": "python",
   "nbconvert_exporter": "python",
   "pygments_lexer": "ipython3",
   "version": "3.10.6"
  }
 },
 "nbformat": 4,
 "nbformat_minor": 5
}
