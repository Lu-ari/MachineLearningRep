{
 "cells": [
  {
   "cell_type": "code",
   "execution_count": 45,
   "id": "eb04eb21-9aac-4116-926b-c1c856e13ba8",
   "metadata": {},
   "outputs": [
    {
     "name": "stdout",
     "output_type": "stream",
     "text": [
      "<class 'pandas.core.frame.DataFrame'>\n",
      "RangeIndex: 539383 entries, 0 to 539382\n",
      "Data columns (total 9 columns):\n",
      " #   Column       Non-Null Count   Dtype \n",
      "---  ------       --------------   ----- \n",
      " 0   id           539383 non-null  int64 \n",
      " 1   Airline      539383 non-null  object\n",
      " 2   Flight       539383 non-null  int64 \n",
      " 3   AirportFrom  539383 non-null  object\n",
      " 4   AirportTo    539383 non-null  object\n",
      " 5   DayOfWeek    539383 non-null  int64 \n",
      " 6   Time         539383 non-null  int64 \n",
      " 7   Length       539383 non-null  int64 \n",
      " 8   Delay        539383 non-null  int64 \n",
      "dtypes: int64(6), object(3)\n",
      "memory usage: 37.0+ MB\n"
     ]
    },
    {
     "data": {
      "application/vnd.plotly.v1+json": {
       "config": {
        "plotlyServerURL": "https://plot.ly"
       },
       "data": [
        {
         "alignmentgroup": "True",
         "hovertemplate": "Havalimanından=%{x}<br>Uçuş Gecikme=%{y}<extra></extra>",
         "legendgroup": "",
         "marker": {
          "color": "#636efa",
          "pattern": {
           "shape": ""
          }
         },
         "name": "",
         "offsetgroup": "",
         "orientation": "v",
         "showlegend": false,
         "textposition": "auto",
         "type": "bar",
         "x": [
          "ABE",
          "ABI",
          "ABQ",
          "ABR",
          "ABY",
          "ACT",
          "ACV",
          "ACY",
          "ADK",
          "ADQ",
          "AEX",
          "AGS",
          "ALB",
          "AMA",
          "ANC",
          "ASE",
          "ATL",
          "ATW",
          "AUS",
          "AVL",
          "AVP",
          "AZO",
          "BDL",
          "BET",
          "BFL",
          "BGM",
          "BGR",
          "BHM",
          "BIL",
          "BIS",
          "BKG",
          "BLI",
          "BMI",
          "BNA",
          "BOI",
          "BOS",
          "BQK",
          "BQN",
          "BRO",
          "BRW",
          "BTM",
          "BTR",
          "BTV",
          "BUF",
          "BUR",
          "BWI",
          "BZN",
          "CAE",
          "CAK",
          "CDC",
          "CDV",
          "CEC",
          "CHA",
          "CHO",
          "CHS",
          "CIC",
          "CID",
          "CLD",
          "CLE",
          "CLL",
          "CLT",
          "CMH",
          "CMI",
          "CMX",
          "COD",
          "COS",
          "COU",
          "CPR",
          "CRP",
          "CRW",
          "CSG",
          "CVG",
          "CWA",
          "CYS",
          "DAB",
          "DAL",
          "DAY",
          "DBQ",
          "DCA",
          "DEN",
          "DFW",
          "DHN",
          "DLH",
          "DRO",
          "DSM",
          "DTW",
          "EAU",
          "ECP",
          "EGE",
          "EKO",
          "ELM",
          "ELP",
          "ERI",
          "EUG",
          "EVV",
          "EWN",
          "EWR",
          "EYW",
          "FAI",
          "FAR",
          "FAT",
          "FAY",
          "FCA",
          "FLG",
          "FLL",
          "FLO",
          "FNT",
          "FSD",
          "FSM",
          "FWA",
          "GCC",
          "GEG",
          "GFK",
          "GGG",
          "GJT",
          "GNV",
          "GPT",
          "GRB",
          "GRK",
          "GRR",
          "GSO",
          "GSP",
          "GTF",
          "GTR",
          "GUC",
          "GUM",
          "HDN",
          "HLN",
          "HNL",
          "HOU",
          "HPN",
          "HRL",
          "HSV",
          "HTS",
          "IAD",
          "IAH",
          "ICT",
          "IDA",
          "ILM",
          "IND",
          "IPL",
          "ISP",
          "ITH",
          "ITO",
          "IYK",
          "JAC",
          "JAN",
          "JAX",
          "JFK",
          "JNU",
          "KOA",
          "KTN",
          "LAN",
          "LAS",
          "LAX",
          "LBB",
          "LCH",
          "LEX",
          "LFT",
          "LGA",
          "LGB",
          "LIH",
          "LIT",
          "LMT",
          "LNK",
          "LRD",
          "LSE",
          "LWB",
          "LWS",
          "LYH",
          "MAF",
          "MBS",
          "MCI",
          "MCO",
          "MDT",
          "MDW",
          "MEI",
          "MEM",
          "MFE",
          "MFR",
          "MGM",
          "MHK",
          "MHT",
          "MIA",
          "MKE",
          "MKG",
          "MLB",
          "MLI",
          "MLU",
          "MMH",
          "MOB",
          "MOD",
          "MOT",
          "MQT",
          "MRY",
          "MSN",
          "MSO",
          "MSP",
          "MSY",
          "MTJ",
          "MYR",
          "OAJ",
          "OAK",
          "OGG",
          "OKC",
          "OMA",
          "OME",
          "ONT",
          "ORD",
          "ORF",
          "OTH",
          "OTZ",
          "PAH",
          "PBI",
          "PDX",
          "PHF",
          "PHL",
          "PHX",
          "PIA",
          "PIE",
          "PIH",
          "PIT",
          "PLN",
          "PNS",
          "PSC",
          "PSE",
          "PSG",
          "PSP",
          "PVD",
          "PWM",
          "RAP",
          "RDD",
          "RDM",
          "RDU",
          "RIC",
          "RKS",
          "RNO",
          "ROA",
          "ROC",
          "ROW",
          "RST",
          "RSW",
          "SAF",
          "SAN",
          "SAT",
          "SAV",
          "SBA",
          "SBN",
          "SBP",
          "SCC",
          "SCE",
          "SDF",
          "SEA",
          "SFO",
          "SGF",
          "SGU",
          "SHV",
          "SIT",
          "SJC",
          "SJT",
          "SJU",
          "SLC",
          "SMF",
          "SMX",
          "SNA",
          "SPI",
          "SPS",
          "SRQ",
          "STL",
          "STT",
          "STX",
          "SUN",
          "SWF",
          "SYR",
          "TEX",
          "TLH",
          "TOL",
          "TPA",
          "TRI",
          "TUL",
          "TUS",
          "TVC",
          "TWF",
          "TXK",
          "TYR",
          "TYS",
          "UTM",
          "VLD",
          "VPS",
          "WRG",
          "XNA",
          "YAK",
          "YUM"
         ],
         "xaxis": "x",
         "y": [
          342,
          211,
          2799,
          2,
          87,
          60,
          296,
          62,
          9,
          56,
          286,
          322,
          951,
          482,
          1307,
          458,
          34449,
          378,
          3654,
          426,
          199,
          243,
          2280,
          84,
          276,
          74,
          32,
          1756,
          306,
          324,
          60,
          26,
          405,
          4353,
          1208,
          9439,
          87,
          137,
          207,
          68,
          60,
          738,
          523,
          1938,
          2147,
          8565,
          359,
          683,
          759,
          55,
          57,
          88,
          363,
          87,
          1007,
          120,
          477,
          163,
          4783,
          31,
          11133,
          2657,
          179,
          62,
          93,
          1031,
          89,
          176,
          689,
          391,
          179,
          4708,
          141,
          31,
          135,
          3838,
          1244,
          27,
          7073,
          19843,
          22154,
          118,
          224,
          291,
          1050,
          13136,
          89,
          580,
          260,
          116,
          104,
          1818,
          74,
          419,
          350,
          74,
          9673,
          126,
          329,
          490,
          971,
          338,
          161,
          219,
          5807,
          18,
          431,
          517,
          162,
          449,
          124,
          1060,
          206,
          31,
          469,
          194,
          502,
          541,
          267,
          1015,
          871,
          790,
          147,
          61,
          95,
          10,
          158,
          145,
          4454,
          4420,
          816,
          412,
          849,
          57,
          6528,
          15821,
          978,
          224,
          317,
          3135,
          62,
          631,
          75,
          604,
          86,
          250,
          985,
          2738,
          9496,
          295,
          1001,
          178,
          262,
          11918,
          16657,
          622,
          90,
          802,
          434,
          8547,
          1126,
          936,
          1572,
          93,
          210,
          224,
          135,
          62,
          57,
          59,
          587,
          310,
          4237,
          10596,
          529,
          7103,
          58,
          6450,
          379,
          361,
          388,
          123,
          1066,
          6716,
          4068,
          66,
          138,
          445,
          172,
          16,
          562,
          144,
          164,
          106,
          451,
          800,
          283,
          10166,
          3400,
          183,
          280,
          135,
          3783,
          1772,
          1906,
          1971,
          90,
          1944,
          24822,
          1419,
          93,
          90,
          62,
          2385,
          4274,
          455,
          7480,
          15557,
          250,
          23,
          113,
          3265,
          32,
          829,
          277,
          62,
          59,
          1026,
          1543,
          516,
          421,
          120,
          272,
          4159,
          1556,
          155,
          1708,
          307,
          1190,
          87,
          168,
          2717,
          92,
          6370,
          3272,
          783,
          827,
          428,
          406,
          56,
          87,
          1411,
          8038,
          11786,
          621,
          192,
          397,
          89,
          3357,
          15,
          1895,
          10473,
          3504,
          120,
          3535,
          174,
          46,
          513,
          5031,
          244,
          46,
          193,
          181,
          917,
          27,
          431,
          27,
          6085,
          313,
          1664,
          1862,
          277,
          121,
          77,
          60,
          1205,
          18,
          87,
          633,
          59,
          1128,
          57,
          338
         ],
         "yaxis": "y"
        }
       ],
       "layout": {
        "autosize": true,
        "barmode": "relative",
        "legend": {
         "tracegroupgap": 0
        },
        "margin": {
         "t": 60
        },
        "template": {
         "data": {
          "bar": [
           {
            "error_x": {
             "color": "#2a3f5f"
            },
            "error_y": {
             "color": "#2a3f5f"
            },
            "marker": {
             "line": {
              "color": "white",
              "width": 0.5
             },
             "pattern": {
              "fillmode": "overlay",
              "size": 10,
              "solidity": 0.2
             }
            },
            "type": "bar"
           }
          ],
          "barpolar": [
           {
            "marker": {
             "line": {
              "color": "white",
              "width": 0.5
             },
             "pattern": {
              "fillmode": "overlay",
              "size": 10,
              "solidity": 0.2
             }
            },
            "type": "barpolar"
           }
          ],
          "carpet": [
           {
            "aaxis": {
             "endlinecolor": "#2a3f5f",
             "gridcolor": "#C8D4E3",
             "linecolor": "#C8D4E3",
             "minorgridcolor": "#C8D4E3",
             "startlinecolor": "#2a3f5f"
            },
            "baxis": {
             "endlinecolor": "#2a3f5f",
             "gridcolor": "#C8D4E3",
             "linecolor": "#C8D4E3",
             "minorgridcolor": "#C8D4E3",
             "startlinecolor": "#2a3f5f"
            },
            "type": "carpet"
           }
          ],
          "choropleth": [
           {
            "colorbar": {
             "outlinewidth": 0,
             "ticks": ""
            },
            "type": "choropleth"
           }
          ],
          "contour": [
           {
            "colorbar": {
             "outlinewidth": 0,
             "ticks": ""
            },
            "colorscale": [
             [
              0,
              "#0d0887"
             ],
             [
              0.1111111111111111,
              "#46039f"
             ],
             [
              0.2222222222222222,
              "#7201a8"
             ],
             [
              0.3333333333333333,
              "#9c179e"
             ],
             [
              0.4444444444444444,
              "#bd3786"
             ],
             [
              0.5555555555555556,
              "#d8576b"
             ],
             [
              0.6666666666666666,
              "#ed7953"
             ],
             [
              0.7777777777777778,
              "#fb9f3a"
             ],
             [
              0.8888888888888888,
              "#fdca26"
             ],
             [
              1,
              "#f0f921"
             ]
            ],
            "type": "contour"
           }
          ],
          "contourcarpet": [
           {
            "colorbar": {
             "outlinewidth": 0,
             "ticks": ""
            },
            "type": "contourcarpet"
           }
          ],
          "heatmap": [
           {
            "colorbar": {
             "outlinewidth": 0,
             "ticks": ""
            },
            "colorscale": [
             [
              0,
              "#0d0887"
             ],
             [
              0.1111111111111111,
              "#46039f"
             ],
             [
              0.2222222222222222,
              "#7201a8"
             ],
             [
              0.3333333333333333,
              "#9c179e"
             ],
             [
              0.4444444444444444,
              "#bd3786"
             ],
             [
              0.5555555555555556,
              "#d8576b"
             ],
             [
              0.6666666666666666,
              "#ed7953"
             ],
             [
              0.7777777777777778,
              "#fb9f3a"
             ],
             [
              0.8888888888888888,
              "#fdca26"
             ],
             [
              1,
              "#f0f921"
             ]
            ],
            "type": "heatmap"
           }
          ],
          "heatmapgl": [
           {
            "colorbar": {
             "outlinewidth": 0,
             "ticks": ""
            },
            "colorscale": [
             [
              0,
              "#0d0887"
             ],
             [
              0.1111111111111111,
              "#46039f"
             ],
             [
              0.2222222222222222,
              "#7201a8"
             ],
             [
              0.3333333333333333,
              "#9c179e"
             ],
             [
              0.4444444444444444,
              "#bd3786"
             ],
             [
              0.5555555555555556,
              "#d8576b"
             ],
             [
              0.6666666666666666,
              "#ed7953"
             ],
             [
              0.7777777777777778,
              "#fb9f3a"
             ],
             [
              0.8888888888888888,
              "#fdca26"
             ],
             [
              1,
              "#f0f921"
             ]
            ],
            "type": "heatmapgl"
           }
          ],
          "histogram": [
           {
            "marker": {
             "pattern": {
              "fillmode": "overlay",
              "size": 10,
              "solidity": 0.2
             }
            },
            "type": "histogram"
           }
          ],
          "histogram2d": [
           {
            "colorbar": {
             "outlinewidth": 0,
             "ticks": ""
            },
            "colorscale": [
             [
              0,
              "#0d0887"
             ],
             [
              0.1111111111111111,
              "#46039f"
             ],
             [
              0.2222222222222222,
              "#7201a8"
             ],
             [
              0.3333333333333333,
              "#9c179e"
             ],
             [
              0.4444444444444444,
              "#bd3786"
             ],
             [
              0.5555555555555556,
              "#d8576b"
             ],
             [
              0.6666666666666666,
              "#ed7953"
             ],
             [
              0.7777777777777778,
              "#fb9f3a"
             ],
             [
              0.8888888888888888,
              "#fdca26"
             ],
             [
              1,
              "#f0f921"
             ]
            ],
            "type": "histogram2d"
           }
          ],
          "histogram2dcontour": [
           {
            "colorbar": {
             "outlinewidth": 0,
             "ticks": ""
            },
            "colorscale": [
             [
              0,
              "#0d0887"
             ],
             [
              0.1111111111111111,
              "#46039f"
             ],
             [
              0.2222222222222222,
              "#7201a8"
             ],
             [
              0.3333333333333333,
              "#9c179e"
             ],
             [
              0.4444444444444444,
              "#bd3786"
             ],
             [
              0.5555555555555556,
              "#d8576b"
             ],
             [
              0.6666666666666666,
              "#ed7953"
             ],
             [
              0.7777777777777778,
              "#fb9f3a"
             ],
             [
              0.8888888888888888,
              "#fdca26"
             ],
             [
              1,
              "#f0f921"
             ]
            ],
            "type": "histogram2dcontour"
           }
          ],
          "mesh3d": [
           {
            "colorbar": {
             "outlinewidth": 0,
             "ticks": ""
            },
            "type": "mesh3d"
           }
          ],
          "parcoords": [
           {
            "line": {
             "colorbar": {
              "outlinewidth": 0,
              "ticks": ""
             }
            },
            "type": "parcoords"
           }
          ],
          "pie": [
           {
            "automargin": true,
            "type": "pie"
           }
          ],
          "scatter": [
           {
            "fillpattern": {
             "fillmode": "overlay",
             "size": 10,
             "solidity": 0.2
            },
            "type": "scatter"
           }
          ],
          "scatter3d": [
           {
            "line": {
             "colorbar": {
              "outlinewidth": 0,
              "ticks": ""
             }
            },
            "marker": {
             "colorbar": {
              "outlinewidth": 0,
              "ticks": ""
             }
            },
            "type": "scatter3d"
           }
          ],
          "scattercarpet": [
           {
            "marker": {
             "colorbar": {
              "outlinewidth": 0,
              "ticks": ""
             }
            },
            "type": "scattercarpet"
           }
          ],
          "scattergeo": [
           {
            "marker": {
             "colorbar": {
              "outlinewidth": 0,
              "ticks": ""
             }
            },
            "type": "scattergeo"
           }
          ],
          "scattergl": [
           {
            "marker": {
             "colorbar": {
              "outlinewidth": 0,
              "ticks": ""
             }
            },
            "type": "scattergl"
           }
          ],
          "scattermapbox": [
           {
            "marker": {
             "colorbar": {
              "outlinewidth": 0,
              "ticks": ""
             }
            },
            "type": "scattermapbox"
           }
          ],
          "scatterpolar": [
           {
            "marker": {
             "colorbar": {
              "outlinewidth": 0,
              "ticks": ""
             }
            },
            "type": "scatterpolar"
           }
          ],
          "scatterpolargl": [
           {
            "marker": {
             "colorbar": {
              "outlinewidth": 0,
              "ticks": ""
             }
            },
            "type": "scatterpolargl"
           }
          ],
          "scatterternary": [
           {
            "marker": {
             "colorbar": {
              "outlinewidth": 0,
              "ticks": ""
             }
            },
            "type": "scatterternary"
           }
          ],
          "surface": [
           {
            "colorbar": {
             "outlinewidth": 0,
             "ticks": ""
            },
            "colorscale": [
             [
              0,
              "#0d0887"
             ],
             [
              0.1111111111111111,
              "#46039f"
             ],
             [
              0.2222222222222222,
              "#7201a8"
             ],
             [
              0.3333333333333333,
              "#9c179e"
             ],
             [
              0.4444444444444444,
              "#bd3786"
             ],
             [
              0.5555555555555556,
              "#d8576b"
             ],
             [
              0.6666666666666666,
              "#ed7953"
             ],
             [
              0.7777777777777778,
              "#fb9f3a"
             ],
             [
              0.8888888888888888,
              "#fdca26"
             ],
             [
              1,
              "#f0f921"
             ]
            ],
            "type": "surface"
           }
          ],
          "table": [
           {
            "cells": {
             "fill": {
              "color": "#EBF0F8"
             },
             "line": {
              "color": "white"
             }
            },
            "header": {
             "fill": {
              "color": "#C8D4E3"
             },
             "line": {
              "color": "white"
             }
            },
            "type": "table"
           }
          ]
         },
         "layout": {
          "annotationdefaults": {
           "arrowcolor": "#2a3f5f",
           "arrowhead": 0,
           "arrowwidth": 1
          },
          "autotypenumbers": "strict",
          "coloraxis": {
           "colorbar": {
            "outlinewidth": 0,
            "ticks": ""
           }
          },
          "colorscale": {
           "diverging": [
            [
             0,
             "#8e0152"
            ],
            [
             0.1,
             "#c51b7d"
            ],
            [
             0.2,
             "#de77ae"
            ],
            [
             0.3,
             "#f1b6da"
            ],
            [
             0.4,
             "#fde0ef"
            ],
            [
             0.5,
             "#f7f7f7"
            ],
            [
             0.6,
             "#e6f5d0"
            ],
            [
             0.7,
             "#b8e186"
            ],
            [
             0.8,
             "#7fbc41"
            ],
            [
             0.9,
             "#4d9221"
            ],
            [
             1,
             "#276419"
            ]
           ],
           "sequential": [
            [
             0,
             "#0d0887"
            ],
            [
             0.1111111111111111,
             "#46039f"
            ],
            [
             0.2222222222222222,
             "#7201a8"
            ],
            [
             0.3333333333333333,
             "#9c179e"
            ],
            [
             0.4444444444444444,
             "#bd3786"
            ],
            [
             0.5555555555555556,
             "#d8576b"
            ],
            [
             0.6666666666666666,
             "#ed7953"
            ],
            [
             0.7777777777777778,
             "#fb9f3a"
            ],
            [
             0.8888888888888888,
             "#fdca26"
            ],
            [
             1,
             "#f0f921"
            ]
           ],
           "sequentialminus": [
            [
             0,
             "#0d0887"
            ],
            [
             0.1111111111111111,
             "#46039f"
            ],
            [
             0.2222222222222222,
             "#7201a8"
            ],
            [
             0.3333333333333333,
             "#9c179e"
            ],
            [
             0.4444444444444444,
             "#bd3786"
            ],
            [
             0.5555555555555556,
             "#d8576b"
            ],
            [
             0.6666666666666666,
             "#ed7953"
            ],
            [
             0.7777777777777778,
             "#fb9f3a"
            ],
            [
             0.8888888888888888,
             "#fdca26"
            ],
            [
             1,
             "#f0f921"
            ]
           ]
          },
          "colorway": [
           "#636efa",
           "#EF553B",
           "#00cc96",
           "#ab63fa",
           "#FFA15A",
           "#19d3f3",
           "#FF6692",
           "#B6E880",
           "#FF97FF",
           "#FECB52"
          ],
          "font": {
           "color": "#2a3f5f"
          },
          "geo": {
           "bgcolor": "white",
           "lakecolor": "white",
           "landcolor": "white",
           "showlakes": true,
           "showland": true,
           "subunitcolor": "#C8D4E3"
          },
          "hoverlabel": {
           "align": "left"
          },
          "hovermode": "closest",
          "mapbox": {
           "style": "light"
          },
          "paper_bgcolor": "white",
          "plot_bgcolor": "white",
          "polar": {
           "angularaxis": {
            "gridcolor": "#EBF0F8",
            "linecolor": "#EBF0F8",
            "ticks": ""
           },
           "bgcolor": "white",
           "radialaxis": {
            "gridcolor": "#EBF0F8",
            "linecolor": "#EBF0F8",
            "ticks": ""
           }
          },
          "scene": {
           "xaxis": {
            "backgroundcolor": "white",
            "gridcolor": "#DFE8F3",
            "gridwidth": 2,
            "linecolor": "#EBF0F8",
            "showbackground": true,
            "ticks": "",
            "zerolinecolor": "#EBF0F8"
           },
           "yaxis": {
            "backgroundcolor": "white",
            "gridcolor": "#DFE8F3",
            "gridwidth": 2,
            "linecolor": "#EBF0F8",
            "showbackground": true,
            "ticks": "",
            "zerolinecolor": "#EBF0F8"
           },
           "zaxis": {
            "backgroundcolor": "white",
            "gridcolor": "#DFE8F3",
            "gridwidth": 2,
            "linecolor": "#EBF0F8",
            "showbackground": true,
            "ticks": "",
            "zerolinecolor": "#EBF0F8"
           }
          },
          "shapedefaults": {
           "line": {
            "color": "#2a3f5f"
           }
          },
          "ternary": {
           "aaxis": {
            "gridcolor": "#DFE8F3",
            "linecolor": "#A2B1C6",
            "ticks": ""
           },
           "baxis": {
            "gridcolor": "#DFE8F3",
            "linecolor": "#A2B1C6",
            "ticks": ""
           },
           "bgcolor": "white",
           "caxis": {
            "gridcolor": "#DFE8F3",
            "linecolor": "#A2B1C6",
            "ticks": ""
           }
          },
          "title": {
           "x": 0.05
          },
          "xaxis": {
           "automargin": true,
           "gridcolor": "#EBF0F8",
           "linecolor": "#EBF0F8",
           "ticks": "",
           "title": {
            "standoff": 15
           },
           "zerolinecolor": "#EBF0F8",
           "zerolinewidth": 2
          },
          "yaxis": {
           "automargin": true,
           "gridcolor": "#EBF0F8",
           "linecolor": "#EBF0F8",
           "ticks": "",
           "title": {
            "standoff": 15
           },
           "zerolinecolor": "#EBF0F8",
           "zerolinewidth": 2
          }
         }
        },
        "xaxis": {
         "anchor": "y",
         "autorange": true,
         "domain": [
          0,
          1
         ],
         "range": [
          -0.5,
          292.5
         ],
         "title": {
          "text": "Havalimanından"
         },
         "type": "category"
        },
        "yaxis": {
         "anchor": "x",
         "autorange": true,
         "domain": [
          0,
          1
         ],
         "range": [
          0,
          36262.10526315789
         ],
         "title": {
          "text": "Uçuş Gecikme"
         },
         "type": "linear"
        }
       }
      },
      "image/png": "[encoded data removed]",
      "text/html": [
       "<div>                            <div id=\"4397c761-9b72-4fd7-9b9f-6db210834ac4\" class=\"plotly-graph-div\" style=\"height:525px; width:100%;\"></div>            <script type=\"text/javascript\">                require([\"plotly\"], function(Plotly) {                    window.PLOTLYENV=window.PLOTLYENV || {};                                    if (document.getElementById(\"4397c761-9b72-4fd7-9b9f-6db210834ac4\")) {                    Plotly.newPlot(                        \"4397c761-9b72-4fd7-9b9f-6db210834ac4\",                        [{\"alignmentgroup\":\"True\",\"hovertemplate\":\"Havaliman\\u0131ndan=%{x}\\u003cbr\\u003eU\\u00e7u\\u015f Gecikme=%{y}\\u003cextra\\u003e\\u003c\\u002fextra\\u003e\",\"legendgroup\":\"\",\"marker\":{\"color\":\"#636efa\",\"pattern\":{\"shape\":\"\"}},\"name\":\"\",\"offsetgroup\":\"\",\"orientation\":\"v\",\"showlegend\":false,\"textposition\":\"auto\",\"x\":[\"ABE\",\"ABI\",\"ABQ\",\"ABR\",\"ABY\",\"ACT\",\"ACV\",\"ACY\",\"ADK\",\"ADQ\",\"AEX\",\"AGS\",\"ALB\",\"AMA\",\"ANC\",\"ASE\",\"ATL\",\"ATW\",\"AUS\",\"AVL\",\"AVP\",\"AZO\",\"BDL\",\"BET\",\"BFL\",\"BGM\",\"BGR\",\"BHM\",\"BIL\",\"BIS\",\"BKG\",\"BLI\",\"BMI\",\"BNA\",\"BOI\",\"BOS\",\"BQK\",\"BQN\",\"BRO\",\"BRW\",\"BTM\",\"BTR\",\"BTV\",\"BUF\",\"BUR\",\"BWI\",\"BZN\",\"CAE\",\"CAK\",\"CDC\",\"CDV\",\"CEC\",\"CHA\",\"CHO\",\"CHS\",\"CIC\",\"CID\",\"CLD\",\"CLE\",\"CLL\",\"CLT\",\"CMH\",\"CMI\",\"CMX\",\"COD\",\"COS\",\"COU\",\"CPR\",\"CRP\",\"CRW\",\"CSG\",\"CVG\",\"CWA\",\"CYS\",\"DAB\",\"DAL\",\"DAY\",\"DBQ\",\"DCA\",\"DEN\",\"DFW\",\"DHN\",\"DLH\",\"DRO\",\"DSM\",\"DTW\",\"EAU\",\"ECP\",\"EGE\",\"EKO\",\"ELM\",\"ELP\",\"ERI\",\"EUG\",\"EVV\",\"EWN\",\"EWR\",\"EYW\",\"FAI\",\"FAR\",\"FAT\",\"FAY\",\"FCA\",\"FLG\",\"FLL\",\"FLO\",\"FNT\",\"FSD\",\"FSM\",\"FWA\",\"GCC\",\"GEG\",\"GFK\",\"GGG\",\"GJT\",\"GNV\",\"GPT\",\"GRB\",\"GRK\",\"GRR\",\"GSO\",\"GSP\",\"GTF\",\"GTR\",\"GUC\",\"GUM\",\"HDN\",\"HLN\",\"HNL\",\"HOU\",\"HPN\",\"HRL\",\"HSV\",\"HTS\",\"IAD\",\"IAH\",\"ICT\",\"IDA\",\"ILM\",\"IND\",\"IPL\",\"ISP\",\"ITH\",\"ITO\",\"IYK\",\"JAC\",\"JAN\",\"JAX\",\"JFK\",\"JNU\",\"KOA\",\"KTN\",\"LAN\",\"LAS\",\"LAX\",\"LBB\",\"LCH\",\"LEX\",\"LFT\",\"LGA\",\"LGB\",\"LIH\",\"LIT\",\"LMT\",\"LNK\",\"LRD\",\"LSE\",\"LWB\",\"LWS\",\"LYH\",\"MAF\",\"MBS\",\"MCI\",\"MCO\",\"MDT\",\"MDW\",\"MEI\",\"MEM\",\"MFE\",\"MFR\",\"MGM\",\"MHK\",\"MHT\",\"MIA\",\"MKE\",\"MKG\",\"MLB\",\"MLI\",\"MLU\",\"MMH\",\"MOB\",\"MOD\",\"MOT\",\"MQT\",\"MRY\",\"MSN\",\"MSO\",\"MSP\",\"MSY\",\"MTJ\",\"MYR\",\"OAJ\",\"OAK\",\"OGG\",\"OKC\",\"OMA\",\"OME\",\"ONT\",\"ORD\",\"ORF\",\"OTH\",\"OTZ\",\"PAH\",\"PBI\",\"PDX\",\"PHF\",\"PHL\",\"PHX\",\"PIA\",\"PIE\",\"PIH\",\"PIT\",\"PLN\",\"PNS\",\"PSC\",\"PSE\",\"PSG\",\"PSP\",\"PVD\",\"PWM\",\"RAP\",\"RDD\",\"RDM\",\"RDU\",\"RIC\",\"RKS\",\"RNO\",\"ROA\",\"ROC\",\"ROW\",\"RST\",\"RSW\",\"SAF\",\"SAN\",\"SAT\",\"SAV\",\"SBA\",\"SBN\",\"SBP\",\"SCC\",\"SCE\",\"SDF\",\"SEA\",\"SFO\",\"SGF\",\"SGU\",\"SHV\",\"SIT\",\"SJC\",\"SJT\",\"SJU\",\"SLC\",\"SMF\",\"SMX\",\"SNA\",\"SPI\",\"SPS\",\"SRQ\",\"STL\",\"STT\",\"STX\",\"SUN\",\"SWF\",\"SYR\",\"TEX\",\"TLH\",\"TOL\",\"TPA\",\"TRI\",\"TUL\",\"TUS\",\"TVC\",\"TWF\",\"TXK\",\"TYR\",\"TYS\",\"UTM\",\"VLD\",\"VPS\",\"WRG\",\"XNA\",\"YAK\",\"YUM\"],\"xaxis\":\"x\",\"y\":[342,211,2799,2,87,60,296,62,9,56,286,322,951,482,1307,458,34449,378,3654,426,199,243,2280,84,276,74,32,1756,306,324,60,26,405,4353,1208,9439,87,137,207,68,60,738,523,1938,2147,8565,359,683,759,55,57,88,363,87,1007,120,477,163,4783,31,11133,2657,179,62,93,1031,89,176,689,391,179,4708,141,31,135,3838,1244,27,7073,19843,22154,118,224,291,1050,13136,89,580,260,116,104,1818,74,419,350,74,9673,126,329,490,971,338,161,219,5807,18,431,517,162,449,124,1060,206,31,469,194,502,541,267,1015,871,790,147,61,95,10,158,145,4454,4420,816,412,849,57,6528,15821,978,224,317,3135,62,631,75,604,86,250,985,2738,9496,295,1001,178,262,11918,16657,622,90,802,434,8547,1126,936,1572,93,210,224,135,62,57,59,587,310,4237,10596,529,7103,58,6450,379,361,388,123,1066,6716,4068,66,138,445,172,16,562,144,164,106,451,800,283,10166,3400,183,280,135,3783,1772,1906,1971,90,1944,24822,1419,93,90,62,2385,4274,455,7480,15557,250,23,113,3265,32,829,277,62,59,1026,1543,516,421,120,272,4159,1556,155,1708,307,1190,87,168,2717,92,6370,3272,783,827,428,406,56,87,1411,8038,11786,621,192,397,89,3357,15,1895,10473,3504,120,3535,174,46,513,5031,244,46,193,181,917,27,431,27,6085,313,1664,1862,277,121,77,60,1205,18,87,633,59,1128,57,338],\"yaxis\":\"y\",\"type\":\"bar\"}],                        {\"template\":{\"data\":{\"barpolar\":[{\"marker\":{\"line\":{\"color\":\"white\",\"width\":0.5},\"pattern\":{\"fillmode\":\"overlay\",\"size\":10,\"solidity\":0.2}},\"type\":\"barpolar\"}],\"bar\":[{\"error_x\":{\"color\":\"#2a3f5f\"},\"error_y\":{\"color\":\"#2a3f5f\"},\"marker\":{\"line\":{\"color\":\"white\",\"width\":0.5},\"pattern\":{\"fillmode\":\"overlay\",\"size\":10,\"solidity\":0.2}},\"type\":\"bar\"}],\"carpet\":[{\"aaxis\":{\"endlinecolor\":\"#2a3f5f\",\"gridcolor\":\"#C8D4E3\",\"linecolor\":\"#C8D4E3\",\"minorgridcolor\":\"#C8D4E3\",\"startlinecolor\":\"#2a3f5f\"},\"baxis\":{\"endlinecolor\":\"#2a3f5f\",\"gridcolor\":\"#C8D4E3\",\"linecolor\":\"#C8D4E3\",\"minorgridcolor\":\"#C8D4E3\",\"startlinecolor\":\"#2a3f5f\"},\"type\":\"carpet\"}],\"choropleth\":[{\"colorbar\":{\"outlinewidth\":0,\"ticks\":\"\"},\"type\":\"choropleth\"}],\"contourcarpet\":[{\"colorbar\":{\"outlinewidth\":0,\"ticks\":\"\"},\"type\":\"contourcarpet\"}],\"contour\":[{\"colorbar\":{\"outlinewidth\":0,\"ticks\":\"\"},\"colorscale\":[[0.0,\"#0d0887\"],[0.1111111111111111,\"#46039f\"],[0.2222222222222222,\"#7201a8\"],[0.3333333333333333,\"#9c179e\"],[0.4444444444444444,\"#bd3786\"],[0.5555555555555556,\"#d8576b\"],[0.6666666666666666,\"#ed7953\"],[0.7777777777777778,\"#fb9f3a\"],[0.8888888888888888,\"#fdca26\"],[1.0,\"#f0f921\"]],\"type\":\"contour\"}],\"heatmapgl\":[{\"colorbar\":{\"outlinewidth\":0,\"ticks\":\"\"},\"colorscale\":[[0.0,\"#0d0887\"],[0.1111111111111111,\"#46039f\"],[0.2222222222222222,\"#7201a8\"],[0.3333333333333333,\"#9c179e\"],[0.4444444444444444,\"#bd3786\"],[0.5555555555555556,\"#d8576b\"],[0.6666666666666666,\"#ed7953\"],[0.7777777777777778,\"#fb9f3a\"],[0.8888888888888888,\"#fdca26\"],[1.0,\"#f0f921\"]],\"type\":\"heatmapgl\"}],\"heatmap\":[{\"colorbar\":{\"outlinewidth\":0,\"ticks\":\"\"},\"colorscale\":[[0.0,\"#0d0887\"],[0.1111111111111111,\"#46039f\"],[0.2222222222222222,\"#7201a8\"],[0.3333333333333333,\"#9c179e\"],[0.4444444444444444,\"#bd3786\"],[0.5555555555555556,\"#d8576b\"],[0.6666666666666666,\"#ed7953\"],[0.7777777777777778,\"#fb9f3a\"],[0.8888888888888888,\"#fdca26\"],[1.0,\"#f0f921\"]],\"type\":\"heatmap\"}],\"histogram2dcontour\":[{\"colorbar\":{\"outlinewidth\":0,\"ticks\":\"\"},\"colorscale\":[[0.0,\"#0d0887\"],[0.1111111111111111,\"#46039f\"],[0.2222222222222222,\"#7201a8\"],[0.3333333333333333,\"#9c179e\"],[0.4444444444444444,\"#bd3786\"],[0.5555555555555556,\"#d8576b\"],[0.6666666666666666,\"#ed7953\"],[0.7777777777777778,\"#fb9f3a\"],[0.8888888888888888,\"#fdca26\"],[1.0,\"#f0f921\"]],\"type\":\"histogram2dcontour\"}],\"histogram2d\":[{\"colorbar\":{\"outlinewidth\":0,\"ticks\":\"\"},\"colorscale\":[[0.0,\"#0d0887\"],[0.1111111111111111,\"#46039f\"],[0.2222222222222222,\"#7201a8\"],[0.3333333333333333,\"#9c179e\"],[0.4444444444444444,\"#bd3786\"],[0.5555555555555556,\"#d8576b\"],[0.6666666666666666,\"#ed7953\"],[0.7777777777777778,\"#fb9f3a\"],[0.8888888888888888,\"#fdca26\"],[1.0,\"#f0f921\"]],\"type\":\"histogram2d\"}],\"histogram\":[{\"marker\":{\"pattern\":{\"fillmode\":\"overlay\",\"size\":10,\"solidity\":0.2}},\"type\":\"histogram\"}],\"mesh3d\":[{\"colorbar\":{\"outlinewidth\":0,\"ticks\":\"\"},\"type\":\"mesh3d\"}],\"parcoords\":[{\"line\":{\"colorbar\":{\"outlinewidth\":0,\"ticks\":\"\"}},\"type\":\"parcoords\"}],\"pie\":[{\"automargin\":true,\"type\":\"pie\"}],\"scatter3d\":[{\"line\":{\"colorbar\":{\"outlinewidth\":0,\"ticks\":\"\"}},\"marker\":{\"colorbar\":{\"outlinewidth\":0,\"ticks\":\"\"}},\"type\":\"scatter3d\"}],\"scattercarpet\":[{\"marker\":{\"colorbar\":{\"outlinewidth\":0,\"ticks\":\"\"}},\"type\":\"scattercarpet\"}],\"scattergeo\":[{\"marker\":{\"colorbar\":{\"outlinewidth\":0,\"ticks\":\"\"}},\"type\":\"scattergeo\"}],\"scattergl\":[{\"marker\":{\"colorbar\":{\"outlinewidth\":0,\"ticks\":\"\"}},\"type\":\"scattergl\"}],\"scattermapbox\":[{\"marker\":{\"colorbar\":{\"outlinewidth\":0,\"ticks\":\"\"}},\"type\":\"scattermapbox\"}],\"scatterpolargl\":[{\"marker\":{\"colorbar\":{\"outlinewidth\":0,\"ticks\":\"\"}},\"type\":\"scatterpolargl\"}],\"scatterpolar\":[{\"marker\":{\"colorbar\":{\"outlinewidth\":0,\"ticks\":\"\"}},\"type\":\"scatterpolar\"}],\"scatter\":[{\"fillpattern\":{\"fillmode\":\"overlay\",\"size\":10,\"solidity\":0.2},\"type\":\"scatter\"}],\"scatterternary\":[{\"marker\":{\"colorbar\":{\"outlinewidth\":0,\"ticks\":\"\"}},\"type\":\"scatterternary\"}],\"surface\":[{\"colorbar\":{\"outlinewidth\":0,\"ticks\":\"\"},\"colorscale\":[[0.0,\"#0d0887\"],[0.1111111111111111,\"#46039f\"],[0.2222222222222222,\"#7201a8\"],[0.3333333333333333,\"#9c179e\"],[0.4444444444444444,\"#bd3786\"],[0.5555555555555556,\"#d8576b\"],[0.6666666666666666,\"#ed7953\"],[0.7777777777777778,\"#fb9f3a\"],[0.8888888888888888,\"#fdca26\"],[1.0,\"#f0f921\"]],\"type\":\"surface\"}],\"table\":[{\"cells\":{\"fill\":{\"color\":\"#EBF0F8\"},\"line\":{\"color\":\"white\"}},\"header\":{\"fill\":{\"color\":\"#C8D4E3\"},\"line\":{\"color\":\"white\"}},\"type\":\"table\"}]},\"layout\":{\"annotationdefaults\":{\"arrowcolor\":\"#2a3f5f\",\"arrowhead\":0,\"arrowwidth\":1},\"autotypenumbers\":\"strict\",\"coloraxis\":{\"colorbar\":{\"outlinewidth\":0,\"ticks\":\"\"}},\"colorscale\":{\"diverging\":[[0,\"#8e0152\"],[0.1,\"#c51b7d\"],[0.2,\"#de77ae\"],[0.3,\"#f1b6da\"],[0.4,\"#fde0ef\"],[0.5,\"#f7f7f7\"],[0.6,\"#e6f5d0\"],[0.7,\"#b8e186\"],[0.8,\"#7fbc41\"],[0.9,\"#4d9221\"],[1,\"#276419\"]],\"sequential\":[[0.0,\"#0d0887\"],[0.1111111111111111,\"#46039f\"],[0.2222222222222222,\"#7201a8\"],[0.3333333333333333,\"#9c179e\"],[0.4444444444444444,\"#bd3786\"],[0.5555555555555556,\"#d8576b\"],[0.6666666666666666,\"#ed7953\"],[0.7777777777777778,\"#fb9f3a\"],[0.8888888888888888,\"#fdca26\"],[1.0,\"#f0f921\"]],\"sequentialminus\":[[0.0,\"#0d0887\"],[0.1111111111111111,\"#46039f\"],[0.2222222222222222,\"#7201a8\"],[0.3333333333333333,\"#9c179e\"],[0.4444444444444444,\"#bd3786\"],[0.5555555555555556,\"#d8576b\"],[0.6666666666666666,\"#ed7953\"],[0.7777777777777778,\"#fb9f3a\"],[0.8888888888888888,\"#fdca26\"],[1.0,\"#f0f921\"]]},\"colorway\":[\"#636efa\",\"#EF553B\",\"#00cc96\",\"#ab63fa\",\"#FFA15A\",\"#19d3f3\",\"#FF6692\",\"#B6E880\",\"#FF97FF\",\"#FECB52\"],\"font\":{\"color\":\"#2a3f5f\"},\"geo\":{\"bgcolor\":\"white\",\"lakecolor\":\"white\",\"landcolor\":\"white\",\"showlakes\":true,\"showland\":true,\"subunitcolor\":\"#C8D4E3\"},\"hoverlabel\":{\"align\":\"left\"},\"hovermode\":\"closest\",\"mapbox\":{\"style\":\"light\"},\"paper_bgcolor\":\"white\",\"plot_bgcolor\":\"white\",\"polar\":{\"angularaxis\":{\"gridcolor\":\"#EBF0F8\",\"linecolor\":\"#EBF0F8\",\"ticks\":\"\"},\"bgcolor\":\"white\",\"radialaxis\":{\"gridcolor\":\"#EBF0F8\",\"linecolor\":\"#EBF0F8\",\"ticks\":\"\"}},\"scene\":{\"xaxis\":{\"backgroundcolor\":\"white\",\"gridcolor\":\"#DFE8F3\",\"gridwidth\":2,\"linecolor\":\"#EBF0F8\",\"showbackground\":true,\"ticks\":\"\",\"zerolinecolor\":\"#EBF0F8\"},\"yaxis\":{\"backgroundcolor\":\"white\",\"gridcolor\":\"#DFE8F3\",\"gridwidth\":2,\"linecolor\":\"#EBF0F8\",\"showbackground\":true,\"ticks\":\"\",\"zerolinecolor\":\"#EBF0F8\"},\"zaxis\":{\"backgroundcolor\":\"white\",\"gridcolor\":\"#DFE8F3\",\"gridwidth\":2,\"linecolor\":\"#EBF0F8\",\"showbackground\":true,\"ticks\":\"\",\"zerolinecolor\":\"#EBF0F8\"}},\"shapedefaults\":{\"line\":{\"color\":\"#2a3f5f\"}},\"ternary\":{\"aaxis\":{\"gridcolor\":\"#DFE8F3\",\"linecolor\":\"#A2B1C6\",\"ticks\":\"\"},\"baxis\":{\"gridcolor\":\"#DFE8F3\",\"linecolor\":\"#A2B1C6\",\"ticks\":\"\"},\"bgcolor\":\"white\",\"caxis\":{\"gridcolor\":\"#DFE8F3\",\"linecolor\":\"#A2B1C6\",\"ticks\":\"\"}},\"title\":{\"x\":0.05},\"xaxis\":{\"automargin\":true,\"gridcolor\":\"#EBF0F8\",\"linecolor\":\"#EBF0F8\",\"ticks\":\"\",\"title\":{\"standoff\":15},\"zerolinecolor\":\"#EBF0F8\",\"zerolinewidth\":2},\"yaxis\":{\"automargin\":true,\"gridcolor\":\"#EBF0F8\",\"linecolor\":\"#EBF0F8\",\"ticks\":\"\",\"title\":{\"standoff\":15},\"zerolinecolor\":\"#EBF0F8\",\"zerolinewidth\":2}}},\"xaxis\":{\"anchor\":\"y\",\"domain\":[0.0,1.0],\"title\":{\"text\":\"Havaliman\\u0131ndan\"}},\"yaxis\":{\"anchor\":\"x\",\"domain\":[0.0,1.0],\"title\":{\"text\":\"U\\u00e7u\\u015f Gecikme\"}},\"legend\":{\"tracegroupgap\":0},\"margin\":{\"t\":60},\"barmode\":\"relative\"},                        {\"responsive\": true}                    ).then(function(){\n",
       "                            \n",
       "var gd = document.getElementById('4397c761-9b72-4fd7-9b9f-6db210834ac4');\n",
       "var x = new MutationObserver(function (mutations, observer) {{\n",
       "        var display = window.getComputedStyle(gd).display;\n",
       "        if (!display || display === 'none') {{\n",
       "            console.log([gd, 'removed!']);\n",
       "            Plotly.purge(gd);\n",
       "            observer.disconnect();\n",
       "        }}\n",
       "}});\n",
       "\n",
       "// Listen for the removal of the full notebook cells\n",
       "var notebookContainer = gd.closest('#notebook-container');\n",
       "if (notebookContainer) {{\n",
       "    x.observe(notebookContainer, {childList: true});\n",
       "}}\n",
       "\n",
       "// Listen for the clearing of the current output cell\n",
       "var outputEl = gd.closest('.output');\n",
       "if (outputEl) {{\n",
       "    x.observe(outputEl, {childList: true});\n",
       "}}\n",
       "\n",
       "                        })                };                });            </script>        </div>"
      ]
     },
     "metadata": {},
     "output_type": "display_data"
    },
    {
     "data": {
      "application/vnd.plotly.v1+json": {
       "config": {
        "plotlyServerURL": "https://plot.ly"
       },
       "data": [
        {
         "alignmentgroup": "True",
         "hovertemplate": "Havalimanına=%{x}<br>Uçuş Gecikme=%{y}<extra></extra>",
         "legendgroup": "",
         "marker": {
          "color": "#636efa",
          "pattern": {
           "shape": ""
          }
         },
         "name": "",
         "offsetgroup": "",
         "orientation": "v",
         "showlegend": false,
         "textposition": "auto",
         "type": "bar",
         "x": [
          "ABE",
          "ABI",
          "ABQ",
          "ABR",
          "ABY",
          "ACT",
          "ACV",
          "ACY",
          "ADK",
          "ADQ",
          "AEX",
          "AGS",
          "ALB",
          "AMA",
          "ANC",
          "ASE",
          "ATL",
          "ATW",
          "AUS",
          "AVL",
          "AVP",
          "AZO",
          "BDL",
          "BET",
          "BFL",
          "BGM",
          "BGR",
          "BHM",
          "BIL",
          "BIS",
          "BKG",
          "BLI",
          "BMI",
          "BNA",
          "BOI",
          "BOS",
          "BQK",
          "BQN",
          "BRO",
          "BRW",
          "BTM",
          "BTR",
          "BTV",
          "BUF",
          "BUR",
          "BWI",
          "BZN",
          "CAE",
          "CAK",
          "CDC",
          "CDV",
          "CEC",
          "CHA",
          "CHO",
          "CHS",
          "CIC",
          "CID",
          "CLD",
          "CLE",
          "CLL",
          "CLT",
          "CMH",
          "CMI",
          "CMX",
          "COD",
          "COS",
          "COU",
          "CPR",
          "CRP",
          "CRW",
          "CSG",
          "CVG",
          "CWA",
          "CYS",
          "DAB",
          "DAL",
          "DAY",
          "DBQ",
          "DCA",
          "DEN",
          "DFW",
          "DHN",
          "DLH",
          "DRO",
          "DSM",
          "DTW",
          "EAU",
          "ECP",
          "EGE",
          "EKO",
          "ELM",
          "ELP",
          "ERI",
          "EUG",
          "EVV",
          "EWN",
          "EWR",
          "EYW",
          "FAI",
          "FAR",
          "FAT",
          "FAY",
          "FCA",
          "FLG",
          "FLL",
          "FLO",
          "FNT",
          "FSD",
          "FSM",
          "FWA",
          "GCC",
          "GEG",
          "GFK",
          "GGG",
          "GJT",
          "GNV",
          "GPT",
          "GRB",
          "GRK",
          "GRR",
          "GSO",
          "GSP",
          "GTF",
          "GTR",
          "GUC",
          "GUM",
          "HDN",
          "HLN",
          "HNL",
          "HOU",
          "HPN",
          "HRL",
          "HSV",
          "HTS",
          "IAD",
          "IAH",
          "ICT",
          "IDA",
          "ILM",
          "IND",
          "IPL",
          "ISP",
          "ITH",
          "ITO",
          "IYK",
          "JAC",
          "JAN",
          "JAX",
          "JFK",
          "JNU",
          "KOA",
          "KTN",
          "LAN",
          "LAS",
          "LAX",
          "LBB",
          "LCH",
          "LEX",
          "LFT",
          "LGA",
          "LGB",
          "LIH",
          "LIT",
          "LMT",
          "LNK",
          "LRD",
          "LSE",
          "LWB",
          "LWS",
          "LYH",
          "MAF",
          "MBS",
          "MCI",
          "MCO",
          "MDT",
          "MDW",
          "MEI",
          "MEM",
          "MFE",
          "MFR",
          "MGM",
          "MHK",
          "MHT",
          "MIA",
          "MKE",
          "MKG",
          "MLB",
          "MLI",
          "MLU",
          "MMH",
          "MOB",
          "MOD",
          "MOT",
          "MQT",
          "MRY",
          "MSN",
          "MSO",
          "MSP",
          "MSY",
          "MTJ",
          "MYR",
          "OAJ",
          "OAK",
          "OGG",
          "OKC",
          "OMA",
          "OME",
          "ONT",
          "ORD",
          "ORF",
          "OTH",
          "OTZ",
          "PAH",
          "PBI",
          "PDX",
          "PHF",
          "PHL",
          "PHX",
          "PIA",
          "PIE",
          "PIH",
          "PIT",
          "PLN",
          "PNS",
          "PSC",
          "PSE",
          "PSG",
          "PSP",
          "PVD",
          "PWM",
          "RAP",
          "RDD",
          "RDM",
          "RDU",
          "RIC",
          "RKS",
          "RNO",
          "ROA",
          "ROC",
          "ROW",
          "RST",
          "RSW",
          "SAF",
          "SAN",
          "SAT",
          "SAV",
          "SBA",
          "SBN",
          "SBP",
          "SCC",
          "SCE",
          "SDF",
          "SEA",
          "SFO",
          "SGF",
          "SGU",
          "SHV",
          "SIT",
          "SJC",
          "SJT",
          "SJU",
          "SLC",
          "SMF",
          "SMX",
          "SNA",
          "SPI",
          "SPS",
          "SRQ",
          "STL",
          "STT",
          "STX",
          "SUN",
          "SWF",
          "SYR",
          "TEX",
          "TLH",
          "TOL",
          "TPA",
          "TRI",
          "TUL",
          "TUS",
          "TVC",
          "TWF",
          "TXK",
          "TYR",
          "TYS",
          "UTM",
          "VLD",
          "VPS",
          "WRG",
          "XNA",
          "YAK",
          "YUM"
         ],
         "xaxis": "x",
         "y": [
          305,
          211,
          2800,
          2,
          87,
          59,
          295,
          62,
          9,
          56,
          284,
          322,
          940,
          482,
          1311,
          461,
          34440,
          371,
          3655,
          427,
          208,
          241,
          2281,
          84,
          275,
          74,
          32,
          1778,
          306,
          324,
          60,
          26,
          405,
          4300,
          1208,
          9429,
          87,
          138,
          207,
          68,
          60,
          738,
          523,
          1970,
          2146,
          8557,
          357,
          687,
          746,
          54,
          57,
          89,
          363,
          87,
          1001,
          120,
          477,
          163,
          4730,
          31,
          11132,
          2652,
          179,
          62,
          93,
          1029,
          89,
          176,
          689,
          390,
          179,
          4713,
          141,
          31,
          135,
          3835,
          1244,
          27,
          7068,
          19848,
          22153,
          118,
          223,
          291,
          1050,
          13146,
          89,
          580,
          262,
          116,
          104,
          1818,
          74,
          418,
          348,
          74,
          9670,
          126,
          329,
          489,
          971,
          338,
          161,
          219,
          5812,
          18,
          431,
          520,
          162,
          448,
          124,
          1059,
          206,
          31,
          470,
          194,
          501,
          532,
          267,
          1010,
          872,
          791,
          147,
          61,
          95,
          10,
          158,
          145,
          4453,
          4419,
          815,
          412,
          876,
          57,
          6565,
          15819,
          979,
          220,
          317,
          3167,
          62,
          631,
          75,
          604,
          86,
          252,
          985,
          2739,
          9490,
          296,
          1001,
          178,
          262,
          11918,
          16656,
          623,
          89,
          801,
          433,
          8549,
          1126,
          936,
          1572,
          93,
          205,
          224,
          135,
          62,
          57,
          59,
          587,
          309,
          4250,
          10605,
          535,
          7102,
          58,
          6450,
          380,
          361,
          388,
          123,
          1067,
          6720,
          4070,
          67,
          138,
          447,
          172,
          16,
          562,
          144,
          164,
          106,
          451,
          801,
          283,
          10181,
          3401,
          183,
          280,
          135,
          3781,
          1803,
          1908,
          1971,
          90,
          1943,
          24871,
          1418,
          93,
          90,
          62,
          2388,
          4274,
          453,
          7478,
          15558,
          250,
          23,
          113,
          3270,
          32,
          829,
          278,
          62,
          59,
          1024,
          1539,
          516,
          422,
          120,
          271,
          4147,
          1554,
          155,
          1709,
          292,
          1185,
          87,
          166,
          2719,
          92,
          6372,
          3267,
          779,
          827,
          427,
          407,
          56,
          87,
          1408,
          8042,
          11792,
          623,
          192,
          397,
          88,
          3357,
          15,
          1903,
          10486,
          3473,
          120,
          3535,
          174,
          46,
          514,
          5034,
          245,
          45,
          193,
          181,
          918,
          27,
          432,
          27,
          6086,
          313,
          1656,
          1862,
          275,
          120,
          77,
          60,
          1192,
          18,
          87,
          633,
          59,
          1123,
          57,
          338
         ],
         "yaxis": "y"
        }
       ],
       "layout": {
        "autosize": true,
        "barmode": "relative",
        "legend": {
         "tracegroupgap": 0
        },
        "margin": {
         "t": 60
        },
        "template": {
         "data": {
          "bar": [
           {
            "error_x": {
             "color": "#2a3f5f"
            },
            "error_y": {
             "color": "#2a3f5f"
            },
            "marker": {
             "line": {
              "color": "white",
              "width": 0.5
             },
             "pattern": {
              "fillmode": "overlay",
              "size": 10,
              "solidity": 0.2
             }
            },
            "type": "bar"
           }
          ],
          "barpolar": [
           {
            "marker": {
             "line": {
              "color": "white",
              "width": 0.5
             },
             "pattern": {
              "fillmode": "overlay",
              "size": 10,
              "solidity": 0.2
             }
            },
            "type": "barpolar"
           }
          ],
          "carpet": [
           {
            "aaxis": {
             "endlinecolor": "#2a3f5f",
             "gridcolor": "#C8D4E3",
             "linecolor": "#C8D4E3",
             "minorgridcolor": "#C8D4E3",
             "startlinecolor": "#2a3f5f"
            },
            "baxis": {
             "endlinecolor": "#2a3f5f",
             "gridcolor": "#C8D4E3",
             "linecolor": "#C8D4E3",
             "minorgridcolor": "#C8D4E3",
             "startlinecolor": "#2a3f5f"
            },
            "type": "carpet"
           }
          ],
          "choropleth": [
           {
            "colorbar": {
             "outlinewidth": 0,
             "ticks": ""
            },
            "type": "choropleth"
           }
          ],
          "contour": [
           {
            "colorbar": {
             "outlinewidth": 0,
             "ticks": ""
            },
            "colorscale": [
             [
              0,
              "#0d0887"
             ],
             [
              0.1111111111111111,
              "#46039f"
             ],
             [
              0.2222222222222222,
              "#7201a8"
             ],
             [
              0.3333333333333333,
              "#9c179e"
             ],
             [
              0.4444444444444444,
              "#bd3786"
             ],
             [
              0.5555555555555556,
              "#d8576b"
             ],
             [
              0.6666666666666666,
              "#ed7953"
             ],
             [
              0.7777777777777778,
              "#fb9f3a"
             ],
             [
              0.8888888888888888,
              "#fdca26"
             ],
             [
              1,
              "#f0f921"
             ]
            ],
            "type": "contour"
           }
          ],
          "contourcarpet": [
           {
            "colorbar": {
             "outlinewidth": 0,
             "ticks": ""
            },
            "type": "contourcarpet"
           }
          ],
          "heatmap": [
           {
            "colorbar": {
             "outlinewidth": 0,
             "ticks": ""
            },
            "colorscale": [
             [
              0,
              "#0d0887"
             ],
             [
              0.1111111111111111,
              "#46039f"
             ],
             [
              0.2222222222222222,
              "#7201a8"
             ],
             [
              0.3333333333333333,
              "#9c179e"
             ],
             [
              0.4444444444444444,
              "#bd3786"
             ],
             [
              0.5555555555555556,
              "#d8576b"
             ],
             [
              0.6666666666666666,
              "#ed7953"
             ],
             [
              0.7777777777777778,
              "#fb9f3a"
             ],
             [
              0.8888888888888888,
              "#fdca26"
             ],
             [
              1,
              "#f0f921"
             ]
            ],
            "type": "heatmap"
           }
          ],
          "heatmapgl": [
           {
            "colorbar": {
             "outlinewidth": 0,
             "ticks": ""
            },
            "colorscale": [
             [
              0,
              "#0d0887"
             ],
             [
              0.1111111111111111,
              "#46039f"
             ],
             [
              0.2222222222222222,
              "#7201a8"
             ],
             [
              0.3333333333333333,
              "#9c179e"
             ],
             [
              0.4444444444444444,
              "#bd3786"
             ],
             [
              0.5555555555555556,
              "#d8576b"
             ],
             [
              0.6666666666666666,
              "#ed7953"
             ],
             [
              0.7777777777777778,
              "#fb9f3a"
             ],
             [
              0.8888888888888888,
              "#fdca26"
             ],
             [
              1,
              "#f0f921"
             ]
            ],
            "type": "heatmapgl"
           }
          ],
          "histogram": [
           {
            "marker": {
             "pattern": {
              "fillmode": "overlay",
              "size": 10,
              "solidity": 0.2
             }
            },
            "type": "histogram"
           }
          ],
          "histogram2d": [
           {
            "colorbar": {
             "outlinewidth": 0,
             "ticks": ""
            },
            "colorscale": [
             [
              0,
              "#0d0887"
             ],
             [
              0.1111111111111111,
              "#46039f"
             ],
             [
              0.2222222222222222,
              "#7201a8"
             ],
             [
              0.3333333333333333,
              "#9c179e"
             ],
             [
              0.4444444444444444,
              "#bd3786"
             ],
             [
              0.5555555555555556,
              "#d8576b"
             ],
             [
              0.6666666666666666,
              "#ed7953"
             ],
             [
              0.7777777777777778,
              "#fb9f3a"
             ],
             [
              0.8888888888888888,
              "#fdca26"
             ],
             [
              1,
              "#f0f921"
             ]
            ],
            "type": "histogram2d"
           }
          ],
          "histogram2dcontour": [
           {
            "colorbar": {
             "outlinewidth": 0,
             "ticks": ""
            },
            "colorscale": [
             [
              0,
              "#0d0887"
             ],
             [
              0.1111111111111111,
              "#46039f"
             ],
             [
              0.2222222222222222,
              "#7201a8"
             ],
             [
              0.3333333333333333,
              "#9c179e"
             ],
             [
              0.4444444444444444,
              "#bd3786"
             ],
             [
              0.5555555555555556,
              "#d8576b"
             ],
             [
              0.6666666666666666,
              "#ed7953"
             ],
             [
              0.7777777777777778,
              "#fb9f3a"
             ],
             [
              0.8888888888888888,
              "#fdca26"
             ],
             [
              1,
              "#f0f921"
             ]
            ],
            "type": "histogram2dcontour"
           }
          ],
          "mesh3d": [
           {
            "colorbar": {
             "outlinewidth": 0,
             "ticks": ""
            },
            "type": "mesh3d"
           }
          ],
          "parcoords": [
           {
            "line": {
             "colorbar": {
              "outlinewidth": 0,
              "ticks": ""
             }
            },
            "type": "parcoords"
           }
          ],
          "pie": [
           {
            "automargin": true,
            "type": "pie"
           }
          ],
          "scatter": [
           {
            "fillpattern": {
             "fillmode": "overlay",
             "size": 10,
             "solidity": 0.2
            },
            "type": "scatter"
           }
          ],
          "scatter3d": [
           {
            "line": {
             "colorbar": {
              "outlinewidth": 0,
              "ticks": ""
             }
            },
            "marker": {
             "colorbar": {
              "outlinewidth": 0,
              "ticks": ""
             }
            },
            "type": "scatter3d"
           }
          ],
          "scattercarpet": [
           {
            "marker": {
             "colorbar": {
              "outlinewidth": 0,
              "ticks": ""
             }
            },
            "type": "scattercarpet"
           }
          ],
          "scattergeo": [
           {
            "marker": {
             "colorbar": {
              "outlinewidth": 0,
              "ticks": ""
             }
            },
            "type": "scattergeo"
           }
          ],
          "scattergl": [
           {
            "marker": {
             "colorbar": {
              "outlinewidth": 0,
              "ticks": ""
             }
            },
            "type": "scattergl"
           }
          ],
          "scattermapbox": [
           {
            "marker": {
             "colorbar": {
              "outlinewidth": 0,
              "ticks": ""
             }
            },
            "type": "scattermapbox"
           }
          ],
          "scatterpolar": [
           {
            "marker": {
             "colorbar": {
              "outlinewidth": 0,
              "ticks": ""
             }
            },
            "type": "scatterpolar"
           }
          ],
          "scatterpolargl": [
           {
            "marker": {
             "colorbar": {
              "outlinewidth": 0,
              "ticks": ""
             }
            },
            "type": "scatterpolargl"
           }
          ],
          "scatterternary": [
           {
            "marker": {
             "colorbar": {
              "outlinewidth": 0,
              "ticks": ""
             }
            },
            "type": "scatterternary"
           }
          ],
          "surface": [
           {
            "colorbar": {
             "outlinewidth": 0,
             "ticks": ""
            },
            "colorscale": [
             [
              0,
              "#0d0887"
             ],
             [
              0.1111111111111111,
              "#46039f"
             ],
             [
              0.2222222222222222,
              "#7201a8"
             ],
             [
              0.3333333333333333,
              "#9c179e"
             ],
             [
              0.4444444444444444,
              "#bd3786"
             ],
             [
              0.5555555555555556,
              "#d8576b"
             ],
             [
              0.6666666666666666,
              "#ed7953"
             ],
             [
              0.7777777777777778,
              "#fb9f3a"
             ],
             [
              0.8888888888888888,
              "#fdca26"
             ],
             [
              1,
              "#f0f921"
             ]
            ],
            "type": "surface"
           }
          ],
          "table": [
           {
            "cells": {
             "fill": {
              "color": "#EBF0F8"
             },
             "line": {
              "color": "white"
             }
            },
            "header": {
             "fill": {
              "color": "#C8D4E3"
             },
             "line": {
              "color": "white"
             }
            },
            "type": "table"
           }
          ]
         },
         "layout": {
          "annotationdefaults": {
           "arrowcolor": "#2a3f5f",
           "arrowhead": 0,
           "arrowwidth": 1
          },
          "autotypenumbers": "strict",
          "coloraxis": {
           "colorbar": {
            "outlinewidth": 0,
            "ticks": ""
           }
          },
          "colorscale": {
           "diverging": [
            [
             0,
             "#8e0152"
            ],
            [
             0.1,
             "#c51b7d"
            ],
            [
             0.2,
             "#de77ae"
            ],
            [
             0.3,
             "#f1b6da"
            ],
            [
             0.4,
             "#fde0ef"
            ],
            [
             0.5,
             "#f7f7f7"
            ],
            [
             0.6,
             "#e6f5d0"
            ],
            [
             0.7,
             "#b8e186"
            ],
            [
             0.8,
             "#7fbc41"
            ],
            [
             0.9,
             "#4d9221"
            ],
            [
             1,
             "#276419"
            ]
           ],
           "sequential": [
            [
             0,
             "#0d0887"
            ],
            [
             0.1111111111111111,
             "#46039f"
            ],
            [
             0.2222222222222222,
             "#7201a8"
            ],
            [
             0.3333333333333333,
             "#9c179e"
            ],
            [
             0.4444444444444444,
             "#bd3786"
            ],
            [
             0.5555555555555556,
             "#d8576b"
            ],
            [
             0.6666666666666666,
             "#ed7953"
            ],
            [
             0.7777777777777778,
             "#fb9f3a"
            ],
            [
             0.8888888888888888,
             "#fdca26"
            ],
            [
             1,
             "#f0f921"
            ]
           ],
           "sequentialminus": [
            [
             0,
             "#0d0887"
            ],
            [
             0.1111111111111111,
             "#46039f"
            ],
            [
             0.2222222222222222,
             "#7201a8"
            ],
            [
             0.3333333333333333,
             "#9c179e"
            ],
            [
             0.4444444444444444,
             "#bd3786"
            ],
            [
             0.5555555555555556,
             "#d8576b"
            ],
            [
             0.6666666666666666,
             "#ed7953"
            ],
            [
             0.7777777777777778,
             "#fb9f3a"
            ],
            [
             0.8888888888888888,
             "#fdca26"
            ],
            [
             1,
             "#f0f921"
            ]
           ]
          },
          "colorway": [
           "#636efa",
           "#EF553B",
           "#00cc96",
           "#ab63fa",
           "#FFA15A",
           "#19d3f3",
           "#FF6692",
           "#B6E880",
           "#FF97FF",
           "#FECB52"
          ],
          "font": {
           "color": "#2a3f5f"
          },
          "geo": {
           "bgcolor": "white",
           "lakecolor": "white",
           "landcolor": "white",
           "showlakes": true,
           "showland": true,
           "subunitcolor": "#C8D4E3"
          },
          "hoverlabel": {
           "align": "left"
          },
          "hovermode": "closest",
          "mapbox": {
           "style": "light"
          },
          "paper_bgcolor": "white",
          "plot_bgcolor": "white",
          "polar": {
           "angularaxis": {
            "gridcolor": "#EBF0F8",
            "linecolor": "#EBF0F8",
            "ticks": ""
           },
           "bgcolor": "white",
           "radialaxis": {
            "gridcolor": "#EBF0F8",
            "linecolor": "#EBF0F8",
            "ticks": ""
           }
          },
          "scene": {
           "xaxis": {
            "backgroundcolor": "white",
            "gridcolor": "#DFE8F3",
            "gridwidth": 2,
            "linecolor": "#EBF0F8",
            "showbackground": true,
            "ticks": "",
            "zerolinecolor": "#EBF0F8"
           },
           "yaxis": {
            "backgroundcolor": "white",
            "gridcolor": "#DFE8F3",
            "gridwidth": 2,
            "linecolor": "#EBF0F8",
            "showbackground": true,
            "ticks": "",
            "zerolinecolor": "#EBF0F8"
           },
           "zaxis": {
            "backgroundcolor": "white",
            "gridcolor": "#DFE8F3",
            "gridwidth": 2,
            "linecolor": "#EBF0F8",
            "showbackground": true,
            "ticks": "",
            "zerolinecolor": "#EBF0F8"
           }
          },
          "shapedefaults": {
           "line": {
            "color": "#2a3f5f"
           }
          },
          "ternary": {
           "aaxis": {
            "gridcolor": "#DFE8F3",
            "linecolor": "#A2B1C6",
            "ticks": ""
           },
           "baxis": {
            "gridcolor": "#DFE8F3",
            "linecolor": "#A2B1C6",
            "ticks": ""
           },
           "bgcolor": "white",
           "caxis": {
            "gridcolor": "#DFE8F3",
            "linecolor": "#A2B1C6",
            "ticks": ""
           }
          },
          "title": {
           "x": 0.05
          },
          "xaxis": {
           "automargin": true,
           "gridcolor": "#EBF0F8",
           "linecolor": "#EBF0F8",
           "ticks": "",
           "title": {
            "standoff": 15
           },
           "zerolinecolor": "#EBF0F8",
           "zerolinewidth": 2
          },
          "yaxis": {
           "automargin": true,
           "gridcolor": "#EBF0F8",
           "linecolor": "#EBF0F8",
           "ticks": "",
           "title": {
            "standoff": 15
           },
           "zerolinecolor": "#EBF0F8",
           "zerolinewidth": 2
          }
         }
        },
        "xaxis": {
         "anchor": "y",
         "autorange": true,
         "domain": [
          0,
          1
         ],
         "range": [
          -0.5,
          292.5
         ],
         "title": {
          "text": "Havalimanına"
         },
         "type": "category"
        },
        "yaxis": {
         "anchor": "x",
         "autorange": true,
         "domain": [
          0,
          1
         ],
         "range": [
          0,
          36252.63157894737
         ],
         "title": {
          "text": "Uçuş Gecikme"
         },
         "type": "linear"
        }
       }
      },
      "image/png": "[encoded data removed]",
      "text/html": [
       "<div>                            <div id=\"7614e41a-94fb-4f7f-ac06-c6c41ec5a433\" class=\"plotly-graph-div\" style=\"height:525px; width:100%;\"></div>            <script type=\"text/javascript\">                require([\"plotly\"], function(Plotly) {                    window.PLOTLYENV=window.PLOTLYENV || {};                                    if (document.getElementById(\"7614e41a-94fb-4f7f-ac06-c6c41ec5a433\")) {                    Plotly.newPlot(                        \"7614e41a-94fb-4f7f-ac06-c6c41ec5a433\",                        [{\"alignmentgroup\":\"True\",\"hovertemplate\":\"Havaliman\\u0131na=%{x}\\u003cbr\\u003eU\\u00e7u\\u015f Gecikme=%{y}\\u003cextra\\u003e\\u003c\\u002fextra\\u003e\",\"legendgroup\":\"\",\"marker\":{\"color\":\"#636efa\",\"pattern\":{\"shape\":\"\"}},\"name\":\"\",\"offsetgroup\":\"\",\"orientation\":\"v\",\"showlegend\":false,\"textposition\":\"auto\",\"x\":[\"ABE\",\"ABI\",\"ABQ\",\"ABR\",\"ABY\",\"ACT\",\"ACV\",\"ACY\",\"ADK\",\"ADQ\",\"AEX\",\"AGS\",\"ALB\",\"AMA\",\"ANC\",\"ASE\",\"ATL\",\"ATW\",\"AUS\",\"AVL\",\"AVP\",\"AZO\",\"BDL\",\"BET\",\"BFL\",\"BGM\",\"BGR\",\"BHM\",\"BIL\",\"BIS\",\"BKG\",\"BLI\",\"BMI\",\"BNA\",\"BOI\",\"BOS\",\"BQK\",\"BQN\",\"BRO\",\"BRW\",\"BTM\",\"BTR\",\"BTV\",\"BUF\",\"BUR\",\"BWI\",\"BZN\",\"CAE\",\"CAK\",\"CDC\",\"CDV\",\"CEC\",\"CHA\",\"CHO\",\"CHS\",\"CIC\",\"CID\",\"CLD\",\"CLE\",\"CLL\",\"CLT\",\"CMH\",\"CMI\",\"CMX\",\"COD\",\"COS\",\"COU\",\"CPR\",\"CRP\",\"CRW\",\"CSG\",\"CVG\",\"CWA\",\"CYS\",\"DAB\",\"DAL\",\"DAY\",\"DBQ\",\"DCA\",\"DEN\",\"DFW\",\"DHN\",\"DLH\",\"DRO\",\"DSM\",\"DTW\",\"EAU\",\"ECP\",\"EGE\",\"EKO\",\"ELM\",\"ELP\",\"ERI\",\"EUG\",\"EVV\",\"EWN\",\"EWR\",\"EYW\",\"FAI\",\"FAR\",\"FAT\",\"FAY\",\"FCA\",\"FLG\",\"FLL\",\"FLO\",\"FNT\",\"FSD\",\"FSM\",\"FWA\",\"GCC\",\"GEG\",\"GFK\",\"GGG\",\"GJT\",\"GNV\",\"GPT\",\"GRB\",\"GRK\",\"GRR\",\"GSO\",\"GSP\",\"GTF\",\"GTR\",\"GUC\",\"GUM\",\"HDN\",\"HLN\",\"HNL\",\"HOU\",\"HPN\",\"HRL\",\"HSV\",\"HTS\",\"IAD\",\"IAH\",\"ICT\",\"IDA\",\"ILM\",\"IND\",\"IPL\",\"ISP\",\"ITH\",\"ITO\",\"IYK\",\"JAC\",\"JAN\",\"JAX\",\"JFK\",\"JNU\",\"KOA\",\"KTN\",\"LAN\",\"LAS\",\"LAX\",\"LBB\",\"LCH\",\"LEX\",\"LFT\",\"LGA\",\"LGB\",\"LIH\",\"LIT\",\"LMT\",\"LNK\",\"LRD\",\"LSE\",\"LWB\",\"LWS\",\"LYH\",\"MAF\",\"MBS\",\"MCI\",\"MCO\",\"MDT\",\"MDW\",\"MEI\",\"MEM\",\"MFE\",\"MFR\",\"MGM\",\"MHK\",\"MHT\",\"MIA\",\"MKE\",\"MKG\",\"MLB\",\"MLI\",\"MLU\",\"MMH\",\"MOB\",\"MOD\",\"MOT\",\"MQT\",\"MRY\",\"MSN\",\"MSO\",\"MSP\",\"MSY\",\"MTJ\",\"MYR\",\"OAJ\",\"OAK\",\"OGG\",\"OKC\",\"OMA\",\"OME\",\"ONT\",\"ORD\",\"ORF\",\"OTH\",\"OTZ\",\"PAH\",\"PBI\",\"PDX\",\"PHF\",\"PHL\",\"PHX\",\"PIA\",\"PIE\",\"PIH\",\"PIT\",\"PLN\",\"PNS\",\"PSC\",\"PSE\",\"PSG\",\"PSP\",\"PVD\",\"PWM\",\"RAP\",\"RDD\",\"RDM\",\"RDU\",\"RIC\",\"RKS\",\"RNO\",\"ROA\",\"ROC\",\"ROW\",\"RST\",\"RSW\",\"SAF\",\"SAN\",\"SAT\",\"SAV\",\"SBA\",\"SBN\",\"SBP\",\"SCC\",\"SCE\",\"SDF\",\"SEA\",\"SFO\",\"SGF\",\"SGU\",\"SHV\",\"SIT\",\"SJC\",\"SJT\",\"SJU\",\"SLC\",\"SMF\",\"SMX\",\"SNA\",\"SPI\",\"SPS\",\"SRQ\",\"STL\",\"STT\",\"STX\",\"SUN\",\"SWF\",\"SYR\",\"TEX\",\"TLH\",\"TOL\",\"TPA\",\"TRI\",\"TUL\",\"TUS\",\"TVC\",\"TWF\",\"TXK\",\"TYR\",\"TYS\",\"UTM\",\"VLD\",\"VPS\",\"WRG\",\"XNA\",\"YAK\",\"YUM\"],\"xaxis\":\"x\",\"y\":[305,211,2800,2,87,59,295,62,9,56,284,322,940,482,1311,461,34440,371,3655,427,208,241,2281,84,275,74,32,1778,306,324,60,26,405,4300,1208,9429,87,138,207,68,60,738,523,1970,2146,8557,357,687,746,54,57,89,363,87,1001,120,477,163,4730,31,11132,2652,179,62,93,1029,89,176,689,390,179,4713,141,31,135,3835,1244,27,7068,19848,22153,118,223,291,1050,13146,89,580,262,116,104,1818,74,418,348,74,9670,126,329,489,971,338,161,219,5812,18,431,520,162,448,124,1059,206,31,470,194,501,532,267,1010,872,791,147,61,95,10,158,145,4453,4419,815,412,876,57,6565,15819,979,220,317,3167,62,631,75,604,86,252,985,2739,9490,296,1001,178,262,11918,16656,623,89,801,433,8549,1126,936,1572,93,205,224,135,62,57,59,587,309,4250,10605,535,7102,58,6450,380,361,388,123,1067,6720,4070,67,138,447,172,16,562,144,164,106,451,801,283,10181,3401,183,280,135,3781,1803,1908,1971,90,1943,24871,1418,93,90,62,2388,4274,453,7478,15558,250,23,113,3270,32,829,278,62,59,1024,1539,516,422,120,271,4147,1554,155,1709,292,1185,87,166,2719,92,6372,3267,779,827,427,407,56,87,1408,8042,11792,623,192,397,88,3357,15,1903,10486,3473,120,3535,174,46,514,5034,245,45,193,181,918,27,432,27,6086,313,1656,1862,275,120,77,60,1192,18,87,633,59,1123,57,338],\"yaxis\":\"y\",\"type\":\"bar\"}],                        {\"template\":{\"data\":{\"barpolar\":[{\"marker\":{\"line\":{\"color\":\"white\",\"width\":0.5},\"pattern\":{\"fillmode\":\"overlay\",\"size\":10,\"solidity\":0.2}},\"type\":\"barpolar\"}],\"bar\":[{\"error_x\":{\"color\":\"#2a3f5f\"},\"error_y\":{\"color\":\"#2a3f5f\"},\"marker\":{\"line\":{\"color\":\"white\",\"width\":0.5},\"pattern\":{\"fillmode\":\"overlay\",\"size\":10,\"solidity\":0.2}},\"type\":\"bar\"}],\"carpet\":[{\"aaxis\":{\"endlinecolor\":\"#2a3f5f\",\"gridcolor\":\"#C8D4E3\",\"linecolor\":\"#C8D4E3\",\"minorgridcolor\":\"#C8D4E3\",\"startlinecolor\":\"#2a3f5f\"},\"baxis\":{\"endlinecolor\":\"#2a3f5f\",\"gridcolor\":\"#C8D4E3\",\"linecolor\":\"#C8D4E3\",\"minorgridcolor\":\"#C8D4E3\",\"startlinecolor\":\"#2a3f5f\"},\"type\":\"carpet\"}],\"choropleth\":[{\"colorbar\":{\"outlinewidth\":0,\"ticks\":\"\"},\"type\":\"choropleth\"}],\"contourcarpet\":[{\"colorbar\":{\"outlinewidth\":0,\"ticks\":\"\"},\"type\":\"contourcarpet\"}],\"contour\":[{\"colorbar\":{\"outlinewidth\":0,\"ticks\":\"\"},\"colorscale\":[[0.0,\"#0d0887\"],[0.1111111111111111,\"#46039f\"],[0.2222222222222222,\"#7201a8\"],[0.3333333333333333,\"#9c179e\"],[0.4444444444444444,\"#bd3786\"],[0.5555555555555556,\"#d8576b\"],[0.6666666666666666,\"#ed7953\"],[0.7777777777777778,\"#fb9f3a\"],[0.8888888888888888,\"#fdca26\"],[1.0,\"#f0f921\"]],\"type\":\"contour\"}],\"heatmapgl\":[{\"colorbar\":{\"outlinewidth\":0,\"ticks\":\"\"},\"colorscale\":[[0.0,\"#0d0887\"],[0.1111111111111111,\"#46039f\"],[0.2222222222222222,\"#7201a8\"],[0.3333333333333333,\"#9c179e\"],[0.4444444444444444,\"#bd3786\"],[0.5555555555555556,\"#d8576b\"],[0.6666666666666666,\"#ed7953\"],[0.7777777777777778,\"#fb9f3a\"],[0.8888888888888888,\"#fdca26\"],[1.0,\"#f0f921\"]],\"type\":\"heatmapgl\"}],\"heatmap\":[{\"colorbar\":{\"outlinewidth\":0,\"ticks\":\"\"},\"colorscale\":[[0.0,\"#0d0887\"],[0.1111111111111111,\"#46039f\"],[0.2222222222222222,\"#7201a8\"],[0.3333333333333333,\"#9c179e\"],[0.4444444444444444,\"#bd3786\"],[0.5555555555555556,\"#d8576b\"],[0.6666666666666666,\"#ed7953\"],[0.7777777777777778,\"#fb9f3a\"],[0.8888888888888888,\"#fdca26\"],[1.0,\"#f0f921\"]],\"type\":\"heatmap\"}],\"histogram2dcontour\":[{\"colorbar\":{\"outlinewidth\":0,\"ticks\":\"\"},\"colorscale\":[[0.0,\"#0d0887\"],[0.1111111111111111,\"#46039f\"],[0.2222222222222222,\"#7201a8\"],[0.3333333333333333,\"#9c179e\"],[0.4444444444444444,\"#bd3786\"],[0.5555555555555556,\"#d8576b\"],[0.6666666666666666,\"#ed7953\"],[0.7777777777777778,\"#fb9f3a\"],[0.8888888888888888,\"#fdca26\"],[1.0,\"#f0f921\"]],\"type\":\"histogram2dcontour\"}],\"histogram2d\":[{\"colorbar\":{\"outlinewidth\":0,\"ticks\":\"\"},\"colorscale\":[[0.0,\"#0d0887\"],[0.1111111111111111,\"#46039f\"],[0.2222222222222222,\"#7201a8\"],[0.3333333333333333,\"#9c179e\"],[0.4444444444444444,\"#bd3786\"],[0.5555555555555556,\"#d8576b\"],[0.6666666666666666,\"#ed7953\"],[0.7777777777777778,\"#fb9f3a\"],[0.8888888888888888,\"#fdca26\"],[1.0,\"#f0f921\"]],\"type\":\"histogram2d\"}],\"histogram\":[{\"marker\":{\"pattern\":{\"fillmode\":\"overlay\",\"size\":10,\"solidity\":0.2}},\"type\":\"histogram\"}],\"mesh3d\":[{\"colorbar\":{\"outlinewidth\":0,\"ticks\":\"\"},\"type\":\"mesh3d\"}],\"parcoords\":[{\"line\":{\"colorbar\":{\"outlinewidth\":0,\"ticks\":\"\"}},\"type\":\"parcoords\"}],\"pie\":[{\"automargin\":true,\"type\":\"pie\"}],\"scatter3d\":[{\"line\":{\"colorbar\":{\"outlinewidth\":0,\"ticks\":\"\"}},\"marker\":{\"colorbar\":{\"outlinewidth\":0,\"ticks\":\"\"}},\"type\":\"scatter3d\"}],\"scattercarpet\":[{\"marker\":{\"colorbar\":{\"outlinewidth\":0,\"ticks\":\"\"}},\"type\":\"scattercarpet\"}],\"scattergeo\":[{\"marker\":{\"colorbar\":{\"outlinewidth\":0,\"ticks\":\"\"}},\"type\":\"scattergeo\"}],\"scattergl\":[{\"marker\":{\"colorbar\":{\"outlinewidth\":0,\"ticks\":\"\"}},\"type\":\"scattergl\"}],\"scattermapbox\":[{\"marker\":{\"colorbar\":{\"outlinewidth\":0,\"ticks\":\"\"}},\"type\":\"scattermapbox\"}],\"scatterpolargl\":[{\"marker\":{\"colorbar\":{\"outlinewidth\":0,\"ticks\":\"\"}},\"type\":\"scatterpolargl\"}],\"scatterpolar\":[{\"marker\":{\"colorbar\":{\"outlinewidth\":0,\"ticks\":\"\"}},\"type\":\"scatterpolar\"}],\"scatter\":[{\"fillpattern\":{\"fillmode\":\"overlay\",\"size\":10,\"solidity\":0.2},\"type\":\"scatter\"}],\"scatterternary\":[{\"marker\":{\"colorbar\":{\"outlinewidth\":0,\"ticks\":\"\"}},\"type\":\"scatterternary\"}],\"surface\":[{\"colorbar\":{\"outlinewidth\":0,\"ticks\":\"\"},\"colorscale\":[[0.0,\"#0d0887\"],[0.1111111111111111,\"#46039f\"],[0.2222222222222222,\"#7201a8\"],[0.3333333333333333,\"#9c179e\"],[0.4444444444444444,\"#bd3786\"],[0.5555555555555556,\"#d8576b\"],[0.6666666666666666,\"#ed7953\"],[0.7777777777777778,\"#fb9f3a\"],[0.8888888888888888,\"#fdca26\"],[1.0,\"#f0f921\"]],\"type\":\"surface\"}],\"table\":[{\"cells\":{\"fill\":{\"color\":\"#EBF0F8\"},\"line\":{\"color\":\"white\"}},\"header\":{\"fill\":{\"color\":\"#C8D4E3\"},\"line\":{\"color\":\"white\"}},\"type\":\"table\"}]},\"layout\":{\"annotationdefaults\":{\"arrowcolor\":\"#2a3f5f\",\"arrowhead\":0,\"arrowwidth\":1},\"autotypenumbers\":\"strict\",\"coloraxis\":{\"colorbar\":{\"outlinewidth\":0,\"ticks\":\"\"}},\"colorscale\":{\"diverging\":[[0,\"#8e0152\"],[0.1,\"#c51b7d\"],[0.2,\"#de77ae\"],[0.3,\"#f1b6da\"],[0.4,\"#fde0ef\"],[0.5,\"#f7f7f7\"],[0.6,\"#e6f5d0\"],[0.7,\"#b8e186\"],[0.8,\"#7fbc41\"],[0.9,\"#4d9221\"],[1,\"#276419\"]],\"sequential\":[[0.0,\"#0d0887\"],[0.1111111111111111,\"#46039f\"],[0.2222222222222222,\"#7201a8\"],[0.3333333333333333,\"#9c179e\"],[0.4444444444444444,\"#bd3786\"],[0.5555555555555556,\"#d8576b\"],[0.6666666666666666,\"#ed7953\"],[0.7777777777777778,\"#fb9f3a\"],[0.8888888888888888,\"#fdca26\"],[1.0,\"#f0f921\"]],\"sequentialminus\":[[0.0,\"#0d0887\"],[0.1111111111111111,\"#46039f\"],[0.2222222222222222,\"#7201a8\"],[0.3333333333333333,\"#9c179e\"],[0.4444444444444444,\"#bd3786\"],[0.5555555555555556,\"#d8576b\"],[0.6666666666666666,\"#ed7953\"],[0.7777777777777778,\"#fb9f3a\"],[0.8888888888888888,\"#fdca26\"],[1.0,\"#f0f921\"]]},\"colorway\":[\"#636efa\",\"#EF553B\",\"#00cc96\",\"#ab63fa\",\"#FFA15A\",\"#19d3f3\",\"#FF6692\",\"#B6E880\",\"#FF97FF\",\"#FECB52\"],\"font\":{\"color\":\"#2a3f5f\"},\"geo\":{\"bgcolor\":\"white\",\"lakecolor\":\"white\",\"landcolor\":\"white\",\"showlakes\":true,\"showland\":true,\"subunitcolor\":\"#C8D4E3\"},\"hoverlabel\":{\"align\":\"left\"},\"hovermode\":\"closest\",\"mapbox\":{\"style\":\"light\"},\"paper_bgcolor\":\"white\",\"plot_bgcolor\":\"white\",\"polar\":{\"angularaxis\":{\"gridcolor\":\"#EBF0F8\",\"linecolor\":\"#EBF0F8\",\"ticks\":\"\"},\"bgcolor\":\"white\",\"radialaxis\":{\"gridcolor\":\"#EBF0F8\",\"linecolor\":\"#EBF0F8\",\"ticks\":\"\"}},\"scene\":{\"xaxis\":{\"backgroundcolor\":\"white\",\"gridcolor\":\"#DFE8F3\",\"gridwidth\":2,\"linecolor\":\"#EBF0F8\",\"showbackground\":true,\"ticks\":\"\",\"zerolinecolor\":\"#EBF0F8\"},\"yaxis\":{\"backgroundcolor\":\"white\",\"gridcolor\":\"#DFE8F3\",\"gridwidth\":2,\"linecolor\":\"#EBF0F8\",\"showbackground\":true,\"ticks\":\"\",\"zerolinecolor\":\"#EBF0F8\"},\"zaxis\":{\"backgroundcolor\":\"white\",\"gridcolor\":\"#DFE8F3\",\"gridwidth\":2,\"linecolor\":\"#EBF0F8\",\"showbackground\":true,\"ticks\":\"\",\"zerolinecolor\":\"#EBF0F8\"}},\"shapedefaults\":{\"line\":{\"color\":\"#2a3f5f\"}},\"ternary\":{\"aaxis\":{\"gridcolor\":\"#DFE8F3\",\"linecolor\":\"#A2B1C6\",\"ticks\":\"\"},\"baxis\":{\"gridcolor\":\"#DFE8F3\",\"linecolor\":\"#A2B1C6\",\"ticks\":\"\"},\"bgcolor\":\"white\",\"caxis\":{\"gridcolor\":\"#DFE8F3\",\"linecolor\":\"#A2B1C6\",\"ticks\":\"\"}},\"title\":{\"x\":0.05},\"xaxis\":{\"automargin\":true,\"gridcolor\":\"#EBF0F8\",\"linecolor\":\"#EBF0F8\",\"ticks\":\"\",\"title\":{\"standoff\":15},\"zerolinecolor\":\"#EBF0F8\",\"zerolinewidth\":2},\"yaxis\":{\"automargin\":true,\"gridcolor\":\"#EBF0F8\",\"linecolor\":\"#EBF0F8\",\"ticks\":\"\",\"title\":{\"standoff\":15},\"zerolinecolor\":\"#EBF0F8\",\"zerolinewidth\":2}}},\"xaxis\":{\"anchor\":\"y\",\"domain\":[0.0,1.0],\"title\":{\"text\":\"Havaliman\\u0131na\"}},\"yaxis\":{\"anchor\":\"x\",\"domain\":[0.0,1.0],\"title\":{\"text\":\"U\\u00e7u\\u015f Gecikme\"}},\"legend\":{\"tracegroupgap\":0},\"margin\":{\"t\":60},\"barmode\":\"relative\"},                        {\"responsive\": true}                    ).then(function(){\n",
       "                            \n",
       "var gd = document.getElementById('7614e41a-94fb-4f7f-ac06-c6c41ec5a433');\n",
       "var x = new MutationObserver(function (mutations, observer) {{\n",
       "        var display = window.getComputedStyle(gd).display;\n",
       "        if (!display || display === 'none') {{\n",
       "            console.log([gd, 'removed!']);\n",
       "            Plotly.purge(gd);\n",
       "            observer.disconnect();\n",
       "        }}\n",
       "}});\n",
       "\n",
       "// Listen for the removal of the full notebook cells\n",
       "var notebookContainer = gd.closest('#notebook-container');\n",
       "if (notebookContainer) {{\n",
       "    x.observe(notebookContainer, {childList: true});\n",
       "}}\n",
       "\n",
       "// Listen for the clearing of the current output cell\n",
       "var outputEl = gd.closest('.output');\n",
       "if (outputEl) {{\n",
       "    x.observe(outputEl, {childList: true});\n",
       "}}\n",
       "\n",
       "                        })                };                });            </script>        </div>"
      ]
     },
     "metadata": {},
     "output_type": "display_data"
    },
    {
     "data": {
      "image/png": "[encoded data removed]",
      "text/plain": [
       "<Figure size 640x480 with 1 Axes>"
      ]
     },
     "metadata": {},
     "output_type": "display_data"
    },
    {
     "data": {
      "image/png": "[encoded data removed]",
      "text/plain": [
       "<Figure size 640x480 with 1 Axes>"
      ]
     },
     "metadata": {},
     "output_type": "display_data"
    }
   ],
   "source": [
    "# Gerekli Kütüphaneleri İçe Aktar\n",
    "import pandas as pd\n",
    "import seaborn as sns\n",
    "import matplotlib.pyplot as plt\n",
    "import plotly.express as px\n",
    "# Veri Setini Yükle ve Oku\n",
    "data = pd.read_csv(r\"D:\\users\\m_ozdemir15\\Desktop\\Okul\\Y.Lisans\\2.Dönem\\Makine Öğrenmesi\\proje\\AirlinesDelayed.csv\")\n",
    "data.head()\n",
    "data.info()\n",
    "# Havayolu sütununa göre gruplandır ve her grup için ortalama gecikme süresini hesapla\n",
    "# İlk çizim için yeni bir şekil oluştur\n",
    "plt.figure()\n",
    "sns.countplot(data, x='Airline', hue='Delay')\n",
    "plt.xlabel('Havayolu Adı')\n",
    "plt.ylabel('Uçuş Gecikme')\n",
    "plt.title('Havayolu Şirketine göre Gecikme Analizi')\n",
    "\n",
    "\n",
    "plt.figure()\n",
    "sns.countplot(data, x='DayOfWeek', hue='Delay')\n",
    "plt.xlabel('Haftanin Günleri')\n",
    "plt.ylabel('Uçuş Gecikme')\n",
    "plt.title('Haftanın Günlerine göre Gecikme Analizi')\n",
    "\n",
    "dt_df = data[['AirportFrom','Delay']].groupby('AirportFrom').agg('count').reset_index()\n",
    "fig = px.bar(dt_df, x='AirportFrom', y='Delay',template = 'plotly_white',labels={\n",
    "                     'AirportFrom': \"Havalimanından\",\n",
    "                     'Delay': \"Uçuş Gecikme\",\n",
    "                     \n",
    "                 })\n",
    "\n",
    "fig.show()\n",
    "\n",
    "dt_df = data[['AirportTo','Delay']].groupby('AirportTo').agg('count').reset_index()\n",
    "fig = px.bar(dt_df, x='AirportTo', y='Delay',template = 'plotly_white',labels={\n",
    "                     'AirportTo': \"Havalimanına\",\n",
    "                     'Delay': \"Uçuş Gecikme\",\n",
    "                     \n",
    "                 })\n",
    "fig.show()\n",
    "\n"
   ]
  },
  {
   "cell_type": "code",
   "execution_count": null,
   "id": "8d9e8bfb-a084-42ce-a09e-0a5e977fccb0",
   "metadata": {},
   "outputs": [],
   "source": []
  }
 ],
 "metadata": {
  "kernelspec": {
   "display_name": "Python 3 (ipykernel)",
   "language": "python",
   "name": "python3"
  },
  "language_info": {
   "codemirror_mode": {
    "name": "ipython",
    "version": 3
   },
   "file_extension": ".py",
   "mimetype": "text/x-python",
   "name": "python",
   "nbconvert_exporter": "python",
   "pygments_lexer": "ipython3",
   "version": "3.10.6"
  }
 },
 "nbformat": 4,
 "nbformat_minor": 5
}
