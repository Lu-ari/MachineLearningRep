{
 "cells": [
  {
   "cell_type": "code",
   "execution_count": 55,
   "id": "363381fa-ce99-4efd-a545-306dd8890ecb",
   "metadata": {},
   "outputs": [
    {
     "name": "stdout",
     "output_type": "stream",
     "text": [
      "XGBoost Hiperparametreli İsabeti: 0.7114120711551118\n",
      "              precision    recall  f1-score   support\n",
      "\n",
      "           0       0.72      0.80      0.75     59879\n",
      "           1       0.70      0.61      0.65     47998\n",
      "\n",
      "    accuracy                           0.71    107877\n",
      "   macro avg       0.71      0.70      0.70    107877\n",
      "weighted avg       0.71      0.71      0.71    107877\n",
      "\n",
      "XGBoost Hiperparametresiz İsabeti: 0.6954401772388924\n",
      "              precision    recall  f1-score   support\n",
      "\n",
      "           0       0.70      0.79      0.74     59879\n",
      "           1       0.69      0.57      0.63     47998\n",
      "\n",
      "    accuracy                           0.70    107877\n",
      "   macro avg       0.69      0.68      0.68    107877\n",
      "weighted avg       0.69      0.70      0.69    107877\n",
      "\n"
     ]
    },
    {
     "data": {
      "image/png": "[encoded data removed]",
      "text/plain": [
       "<Figure size 640x480 with 1 Axes>"
      ]
     },
     "metadata": {},
     "output_type": "display_data"
    },
    {
     "name": "stdout",
     "output_type": "stream",
     "text": [
      "CPU times: total: 1min 6s\n",
      "Wall time: 14.9 s\n"
     ]
    }
   ],
   "source": [
    "%%time\n",
    "# Gerekli Kütüphaneleri İçe Aktar\n",
    "import pandas as pd\n",
    "import numpy as np\n",
    "from sklearn.model_selection import train_test_split\n",
    "from sklearn.preprocessing import LabelEncoder, StandardScaler\n",
    "from xgboost import XGBClassifier  \n",
    "from sklearn.metrics import accuracy_score, classification_report\n",
    "import matplotlib.pyplot as plt\n",
    "\n",
    "# Veri Setini Yükle ve Oku\n",
    "data = pd.read_csv(r\"D:\\users\\m_ozdemir15\\Desktop\\Okul\\Y.Lisans\\2.Dönem\\Makine Öğrenmesi\\proje\\AirlinesDelayed.csv\")\n",
    "data.head()\n",
    "\n",
    "# Veri Ön İşleme Adımı\n",
    "\n",
    "# Eksik değerleri ele al, gerekiyorsa kaldır\n",
    "data.dropna(inplace=True)\n",
    "\n",
    "# Kategorik değişkenleri kodla\n",
    "label_encoders = {}\n",
    "categorical_columns = ['Airline', 'AirportFrom', 'AirportTo']\n",
    "for column in categorical_columns:\n",
    "    le = LabelEncoder()\n",
    "    data[column] = le.fit_transform(data[column])\n",
    "    label_encoders[column] = le\n",
    "\n",
    "# Veriyi X (özellikler) ve y (hedef) olarak böl\n",
    "X = data.drop('Delay', axis=1)\n",
    "y = data['Delay']\n",
    "\n",
    "# Veriyi Eğitim ve Test Kümelerine Ayır\n",
    "X_train, X_test, y_train, y_test = train_test_split(X, y, test_size=0.2, random_state=42)\n",
    "\n",
    "# Özellik Ölçekleme\n",
    "scaler = StandardScaler()\n",
    "X_train = scaler.fit_transform(X_train)\n",
    "X_test = scaler.transform(X_test)\n",
    "\n",
    "# # XGBoost için Model Değerlendirmesi ve Eğitimi\n",
    "model_xgb1 = XGBClassifier(learning_rate=0.19, n_estimators=97, max_depth=11, subsample=0.90, colsample_bytree=0.83)  # XGBoost hyper parametre model parametreleri\n",
    "#defaultda parametre birimleri  learning_rate [default=0.3]  n_estimators=97 [default=100] max_depth [default=6] subsample [default=1] \n",
    "#colsample_bytree [default=5]\n",
    "model_xgb1.fit(X_train, y_train)  #  XGBoost model Eğitimi\n",
    "\n",
    "# XGBoost Model Eğitimi\n",
    "y_pred_xgb1 = model_xgb1.predict(X_test)\n",
    "accuracy_xgb1 = accuracy_score(y_test, y_pred_xgb1)\n",
    "report_xgb1 = classification_report(y_test, y_pred_xgb1)\n",
    "\n",
    "print(f'XGBoost Hiperparametreli İsabeti: {accuracy_xgb1}')\n",
    "print(report_xgb1)\n",
    "\n",
    "model_xgb2 = XGBClassifier()  #XGBoost model  hyperparametersiz oluştur\n",
    "\n",
    "model_xgb2.fit(X_train, y_train)  # XGBoost model eğit\n",
    "\n",
    "# XGBoost Model Değerlendirme\n",
    "y_pred_xgb2 = model_xgb2.predict(X_test)\n",
    "accuracy_xgb2 = accuracy_score(y_test, y_pred_xgb2)\n",
    "report_xgb2 = classification_report(y_test, y_pred_xgb2)\n",
    "\n",
    "print(f'XGBoost Hiperparametresiz İsabeti: {accuracy_xgb2}')\n",
    "print(report_xgb2)\n",
    "\n",
    "# İsabeti her iki model için tanımla\n",
    "accuracy = [accuracy_xgb1, accuracy_xgb2]\n",
    "\n",
    "# Etiketleri her iki model için tanımla\n",
    "labels = ['XGBoost Hiperparametre ayarı ile', 'XGBoost Hiperparametresiz']\n",
    "\n",
    "plt.bar(labels, accuracy)\n",
    "plt.xlabel('Model')\n",
    "plt.ylabel('İsabet')\n",
    "plt.title('Model İsabetlilik Karşılaştırması')\n",
    "plt.show()\n"
   ]
  },
  {
   "cell_type": "code",
   "execution_count": null,
   "id": "6ed81af6-94fd-4a6c-b7a6-d37d8974ce35",
   "metadata": {},
   "outputs": [],
   "source": []
  }
 ],
 "metadata": {
  "kernelspec": {
   "display_name": "Python 3 (ipykernel)",
   "language": "python",
   "name": "python3"
  },
  "language_info": {
   "codemirror_mode": {
    "name": "ipython",
    "version": 3
   },
   "file_extension": ".py",
   "mimetype": "text/x-python",
   "name": "python",
   "nbconvert_exporter": "python",
   "pygments_lexer": "ipython3",
   "version": "3.10.6"
  }
 },
 "nbformat": 4,
 "nbformat_minor": 5
}
