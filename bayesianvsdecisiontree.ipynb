{
 "cells": [
  {
   "cell_type": "code",
   "execution_count": 5,
   "id": "96916380-abf9-4f44-86ac-9901a4a36d3b",
   "metadata": {},
   "outputs": [
    {
     "name": "stdout",
     "output_type": "stream",
     "text": [
      "Naive Bayes Model Accuracy: 0.6043734994484459\n",
      "              precision    recall  f1-score   support\n",
      "\n",
      "           0       0.62      0.74      0.68     59879\n",
      "           1       0.57      0.43      0.49     47998\n",
      "\n",
      "    accuracy                           0.60    107877\n",
      "   macro avg       0.60      0.59      0.58    107877\n",
      "weighted avg       0.60      0.60      0.59    107877\n",
      "\n",
      "Decision Tree Model Accuracy: 0.6231448779628651\n",
      "              precision    recall  f1-score   support\n",
      "\n",
      "           0       0.66      0.65      0.66     59879\n",
      "           1       0.58      0.58      0.58     47998\n",
      "\n",
      "    accuracy                           0.62    107877\n",
      "   macro avg       0.62      0.62      0.62    107877\n",
      "weighted avg       0.62      0.62      0.62    107877\n",
      "\n"
     ]
    },
    {
     "data": {
      "image/png": "[encoded data removed]",
      "text/plain": [
       "<Figure size 640x480 with 1 Axes>"
      ]
     },
     "metadata": {},
     "output_type": "display_data"
    },
    {
     "name": "stdout",
     "output_type": "stream",
     "text": [
      "CPU times: total: 7.92 s\n",
      "Wall time: 7.92 s\n"
     ]
    }
   ],
   "source": [
    "%%time\n",
    "# Gerekli Kütüphaneleri İçe Aktar\n",
    "import pandas as pd\n",
    "import numpy as np\n",
    "import matplotlib.pyplot as plt\n",
    "from sklearn.naive_bayes import GaussianNB\n",
    "from sklearn.tree import DecisionTreeClassifier\n",
    "from sklearn.metrics import accuracy_score, classification_report\n",
    "from sklearn.model_selection import train_test_split\n",
    "from sklearn.preprocessing import LabelEncoder, StandardScaler\n",
    "\n",
    "# Veri Setini Yükle ve Oku\n",
    "data = pd.read_csv(r\"D:\\users\\m_ozdemir15\\Desktop\\Okul\\Y.Lisans\\2.Dönem\\Makine Öğrenmesi\\proje\\AirlinesDelayed.csv\")\n",
    "data.head()\n",
    "\n",
    "# Veri Ön İşleme Adımı\n",
    "data.dropna(inplace=True)\n",
    "\n",
    "# Kategorik değişkenleri kodla\n",
    "label_encoders = {}\n",
    "categorical_columns = ['Airline', 'AirportFrom', 'AirportTo']\n",
    "for column in categorical_columns:\n",
    "    le = LabelEncoder()\n",
    "    data[column] = le.fit_transform(data[column])\n",
    "    label_encoders[column] = le\n",
    "\n",
    "# Veriyi X (özellikler) ve y (hedef) olarak bölelim\n",
    "X = data.drop('Delay', axis=1)\n",
    "y = data['Delay']\n",
    "\n",
    "# Veriyi Eğitim ve Test Kümelerine Ayır\n",
    "X_train, X_test, y_train, y_test = train_test_split(X, y, test_size=0.2, random_state=42)\n",
    "\n",
    "# Özellik Ölçekleme\n",
    "scaler = StandardScaler()\n",
    "X_train = scaler.fit_transform(X_train)\n",
    "X_test = scaler.transform(X_test)\n",
    "\n",
    "# Naive Bayes Model\n",
    "model_nb = GaussianNB()\n",
    "model_nb.fit(X_train, y_train)\n",
    "\n",
    "# Naive Bayes Model Değerlendirme\n",
    "y_pred_nb = model_nb.predict(X_test)\n",
    "accuracy_nb = accuracy_score(y_test, y_pred_nb)\n",
    "report_nb = classification_report(y_test, y_pred_nb)\n",
    "\n",
    "print(f'Naive Bayes Model Accuracy: {accuracy_nb}')\n",
    "print(report_nb)\n",
    "\n",
    "# Decision Tree Model\n",
    "model_dt = DecisionTreeClassifier(random_state=42)\n",
    "model_dt.fit(X_train, y_train)\n",
    "\n",
    "# Decision Tree Model Değerlendirme\n",
    "y_pred_dt = model_dt.predict(X_test)\n",
    "accuracy_dt = accuracy_score(y_test, y_pred_dt)\n",
    "report_dt = classification_report(y_test, y_pred_dt)\n",
    "\n",
    "print(f'Decision Tree Model Hassasiyeti: {accuracy_dt}')\n",
    "print(report_dt)\n",
    "\n",
    "# Bar grafiği ile Hassasiyeti kıyasla\n",
    "labels = ['Naive Bayes', 'Decision Tree']\n",
    "accuracies = [accuracy_nb, accuracy_dt]\n",
    "\n",
    "plt.bar(labels, accuracies)\n",
    "plt.xlabel('Model')\n",
    "plt.ylabel('Hassasiyet')\n",
    "plt.title('Modellerin Karşılaştırma Hassasisyetleri')\n",
    "plt.show()\n"
   ]
  },
  {
   "cell_type": "code",
   "execution_count": null,
   "id": "0a5d0e4e-453f-43b8-ba8f-b55af9c0d8cd",
   "metadata": {},
   "outputs": [],
   "source": []
  }
 ],
 "metadata": {
  "kernelspec": {
   "display_name": "Python 3 (ipykernel)",
   "language": "python",
   "name": "python3"
  },
  "language_info": {
   "codemirror_mode": {
    "name": "ipython",
    "version": 3
   },
   "file_extension": ".py",
   "mimetype": "text/x-python",
   "name": "python",
   "nbconvert_exporter": "python",
   "pygments_lexer": "ipython3",
   "version": "3.10.6"
  }
 },
 "nbformat": 4,
 "nbformat_minor": 5
}
