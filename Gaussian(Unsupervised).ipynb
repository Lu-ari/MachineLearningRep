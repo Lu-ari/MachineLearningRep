{
 "cells": [
  {
   "cell_type": "code",
   "execution_count": 1,
   "id": "fa4d34e4-dac4-4655-b2ad-a4a67b59b0f2",
   "metadata": {},
   "outputs": [
    {
     "name": "stdout",
     "output_type": "stream",
     "text": [
      "GMM Accuracy: 0.5063915385114529\n",
      "              precision    recall  f1-score   support\n",
      "\n",
      "           0       0.57      0.45      0.50     59879\n",
      "           1       0.46      0.58      0.51     47998\n",
      "\n",
      "    accuracy                           0.51    107877\n",
      "   macro avg       0.51      0.51      0.51    107877\n",
      "weighted avg       0.52      0.51      0.51    107877\n",
      "\n"
     ]
    },
    {
     "data": {
      "image/png": "[encoded data removed]",
      "text/plain": [
       "<Figure size 640x480 with 1 Axes>"
      ]
     },
     "metadata": {},
     "output_type": "display_data"
    },
    {
     "name": "stdout",
     "output_type": "stream",
     "text": [
      "CPU times: total: 12.4 s\n",
      "Wall time: 12.2 s\n"
     ]
    }
   ],
   "source": [
    "%%time\n",
    "# Import necessary libraries\n",
    "import pandas as pd\n",
    "import numpy as np\n",
    "from sklearn.model_selection import train_test_split\n",
    "from sklearn.preprocessing import LabelEncoder, StandardScaler\n",
    "from sklearn.mixture import GaussianMixture\n",
    "from sklearn.metrics import accuracy_score, classification_report\n",
    "import matplotlib.pyplot as plt\n",
    "\n",
    "# Load and read the dataset\n",
    "data = pd.read_csv(r\"D:\\users\\m_ozdemir15\\Desktop\\Okul\\Y.Lisans\\2.Dönem\\Makine Öğrenmesi\\proje\\AirlinesDelayed.csv\")\n",
    "data.head()\n",
    "\n",
    "# Data Preprocessing Step\n",
    "\n",
    "# Handle missing values, remove if necessary\n",
    "data.dropna(inplace=True)\n",
    "\n",
    "# Encode categorical variables\n",
    "label_encoders = {}\n",
    "categorical_columns = ['Airline', 'AirportFrom', 'AirportTo']\n",
    "for column in categorical_columns:\n",
    "    le = LabelEncoder()\n",
    "    data[column] = le.fit_transform(data[column])\n",
    "    label_encoders[column] = le\n",
    "\n",
    "# Split the data into X (features) and y (target)\n",
    "X = data.drop('Delay', axis=1)\n",
    "y = data['Delay']\n",
    "\n",
    "# Split the data into Training and Test sets\n",
    "X_train, X_test, y_train, y_test = train_test_split(X, y, test_size=0.2, random_state=42)\n",
    "\n",
    "# Feature Scaling\n",
    "scaler = StandardScaler()\n",
    "X_train = scaler.fit_transform(X_train)\n",
    "X_test = scaler.transform(X_test)\n",
    "\n",
    "# Model Evaluation and Training for GMM\n",
    "model_gmm = GaussianMixture(n_components=2)  # GMM model parameters\n",
    "model_gmm.fit(X_train)  # GMM model training\n",
    "\n",
    "# GMM Model Evaluation\n",
    "y_pred_gmm = model_gmm.predict(X_test)\n",
    "accuracy_gmm = accuracy_score(y_test, y_pred_gmm)\n",
    "report_gmm = classification_report(y_test, y_pred_gmm)\n",
    "\n",
    "print(f'GMM Accuracy: {accuracy_gmm}')\n",
    "print(report_gmm)\n",
    "\n",
    "# Define accuracy for the model\n",
    "accuracy = [accuracy_gmm]\n",
    "\n",
    "# Define labels for the model\n",
    "labels = ['GMM']\n",
    "\n",
    "plt.bar(labels, accuracy)\n",
    "plt.xlabel('Model')\n",
    "plt.ylabel('Accuracy')\n",
    "plt.title('Model Accuracy Comparison')\n",
    "plt.show()\n"
   ]
  },
  {
   "cell_type": "code",
   "execution_count": null,
   "id": "6764f195-248a-4ad9-9920-df5a3c56dd1e",
   "metadata": {},
   "outputs": [],
   "source": []
  }
 ],
 "metadata": {
  "kernelspec": {
   "display_name": "Python 3 (ipykernel)",
   "language": "python",
   "name": "python3"
  },
  "language_info": {
   "codemirror_mode": {
    "name": "ipython",
    "version": 3
   },
   "file_extension": ".py",
   "mimetype": "text/x-python",
   "name": "python",
   "nbconvert_exporter": "python",
   "pygments_lexer": "ipython3",
   "version": "3.10.6"
  }
 },
 "nbformat": 4,
 "nbformat_minor": 5
}
