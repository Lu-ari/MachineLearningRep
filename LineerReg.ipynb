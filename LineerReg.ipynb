{
 "cells": [
  {
   "cell_type": "code",
   "execution_count": 6,
   "id": "0d49d0f8-7e49-41f9-8f4b-01727bfa24a4",
   "metadata": {},
   "outputs": [
    {
     "name": "stdout",
     "output_type": "stream",
     "text": [
      "Linear Regression Model MSE: 0.23440834741143757\n",
      "Linear Regression Model R^2 Score: 0.05085379910333199\n",
      "Linear Regression Model Accuracy: 1.0\n",
      "CPU times: total: 1.75 s\n",
      "Wall time: 1.75 s\n"
     ]
    }
   ],
   "source": [
    "%%time\n",
    "# Gerekli Kütüphaneleri İçe Aktar\n",
    "import pandas as pd\n",
    "import numpy as np\n",
    "import matplotlib.pyplot as plt\n",
    "from sklearn.linear_model import LinearRegression\n",
    "from sklearn.metrics import mean_squared_error, r2_score\n",
    "from sklearn.model_selection import train_test_split\n",
    "from sklearn.preprocessing import LabelEncoder, StandardScaler\n",
    "\n",
    "# Veri Setini Yükle ve Oku\n",
    "data = pd.read_csv(r\"D:\\users\\m_ozdemir15\\Desktop\\Okul\\Y.Lisans\\2.Dönem\\Makine Öğrenmesi\\proje\\AirlinesDelayed.csv\")\n",
    "data.head()\n",
    "\n",
    "# Eksik değerleri ele al, gerekiyorsa kaldır\n",
    "data.dropna(inplace=True)\n",
    "\n",
    "# Kategorik değişkenleri kodla\n",
    "label_encoders = {}\n",
    "categorical_columns = ['Airline', 'AirportFrom', 'AirportTo']\n",
    "for column in categorical_columns:\n",
    "    le = LabelEncoder()\n",
    "    data[column] = le.fit_transform(data[column])\n",
    "    label_encoders[column] = le\n",
    "\n",
    "# Veriyi X (özellikler) ve y (hedef) olarak böl\n",
    "X = data.drop('Delay', axis=1)\n",
    "y = data['Delay']\n",
    "\n",
    "# Veriyi Eğitim ve Test Kümelerine Ayır\n",
    "X_train, X_test, y_train, y_test = train_test_split(X, y, test_size=0.2, random_state=42)\n",
    "\n",
    "# Özellik Ölçekleme\n",
    "scaler = StandardScaler()\n",
    "X_train = scaler.fit_transform(X_train)\n",
    "X_test = scaler.transform(X_test)\n",
    "\n",
    "# Linear Regression Modeli\n",
    "model_lr = LinearRegression()\n",
    "\n",
    "model_lr.fit(X_train, y_train)\n",
    "\n",
    "# Linear Regression Model Değerlendirmesi\n",
    "y_pred_lr = model_lr.predict(X_test)\n",
    "mse_lr = mean_squared_error(y_test, y_pred_lr)\n",
    "r2_lr = r2_score(y_test, y_pred_lr)\n",
    "\n",
    "\n",
    "print(f'Linear Regression Model MSE: {mse_lr}')\n",
    "print(f'Linear Regression Model R^2 Score: {r2_lr}')\n",
    "\n",
    "\n"
   ]
  },
  {
   "cell_type": "code",
   "execution_count": null,
   "id": "7f98f7f7-2284-4e3b-be91-c3daf2d91ad8",
   "metadata": {},
   "outputs": [],
   "source": []
  }
 ],
 "metadata": {
  "kernelspec": {
   "display_name": "Python 3 (ipykernel)",
   "language": "python",
   "name": "python3"
  },
  "language_info": {
   "codemirror_mode": {
    "name": "ipython",
    "version": 3
   },
   "file_extension": ".py",
   "mimetype": "text/x-python",
   "name": "python",
   "nbconvert_exporter": "python",
   "pygments_lexer": "ipython3",
   "version": "3.10.6"
  }
 },
 "nbformat": 4,
 "nbformat_minor": 5
}
