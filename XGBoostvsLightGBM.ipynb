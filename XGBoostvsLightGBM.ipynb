{
 "cells": [
  {
   "cell_type": "code",
   "execution_count": 8,
   "id": "9ccb9186-c717-46f6-859c-0f47fa3fe367",
   "metadata": {},
   "outputs": [
    {
     "name": "stdout",
     "output_type": "stream",
     "text": [
      "[LightGBM] [Info] Number of positive: 192266, number of negative: 239240\n",
      "[LightGBM] [Info] Auto-choosing col-wise multi-threading, the overhead of testing was 0.018724 seconds.\n",
      "You can set `force_col_wise=true` to remove the overhead.\n",
      "[LightGBM] [Info] Total Bins 1532\n",
      "[LightGBM] [Info] Number of data points in the train set: 431506, number of used features: 8\n",
      "[LightGBM] [Info] [binary:BoostFromScore]: pavg=0.445570 -> initscore=-0.218587\n",
      "[LightGBM] [Info] Start training from score -0.218587\n",
      "XGBoost Hassasiyeti: 0.6954401772388924\n",
      "              precision    recall  f1-score   support\n",
      "\n",
      "           0       0.70      0.79      0.74     59879\n",
      "           1       0.69      0.57      0.63     47998\n",
      "\n",
      "    accuracy                           0.70    107877\n",
      "   macro avg       0.69      0.68      0.68    107877\n",
      "weighted avg       0.69      0.70      0.69    107877\n",
      "\n",
      "LightGBM Hassasiyeti: 0.6864299155519712\n",
      "              precision    recall  f1-score   support\n",
      "\n",
      "           0       0.68      0.81      0.74     59879\n",
      "           1       0.69      0.54      0.60     47998\n",
      "\n",
      "    accuracy                           0.69    107877\n",
      "   macro avg       0.69      0.67      0.67    107877\n",
      "weighted avg       0.69      0.69      0.68    107877\n",
      "\n"
     ]
    },
    {
     "data": {
      "image/png": "[encoded data removed]",
      "text/plain": [
       "<Figure size 640x480 with 1 Axes>"
      ]
     },
     "metadata": {},
     "output_type": "display_data"
    },
    {
     "name": "stdout",
     "output_type": "stream",
     "text": [
      "CPU times: total: 22.5 s\n",
      "Wall time: 6.73 s\n"
     ]
    }
   ],
   "source": [
    "\n",
    "%%time\n",
    "# Gerekli Kütüphaneleri İçe Aktar\n",
    "import pandas as pd\n",
    "import numpy as np\n",
    "from sklearn.model_selection import train_test_split\n",
    "from sklearn.preprocessing import LabelEncoder, StandardScaler\n",
    "from xgboost import XGBClassifier  \n",
    "from lightgbm import LGBMClassifier  \n",
    "from sklearn.metrics import accuracy_score, classification_report\n",
    "import matplotlib.pyplot as plt\n",
    "import io\n",
    "\n",
    "# Veri Setini Yükle ve Oku\n",
    "data = pd.read_csv(r\"D:\\users\\m_ozdemir15\\Desktop\\Okul\\Y.Lisans\\2.Dönem\\Makine Öğrenmesi\\proje\\AirlinesDelayed.csv\")\n",
    "data.head()\n",
    "\n",
    "# Veri Ön İşleme Adımı\n",
    "\n",
    "# Eksik değerleri ele al, gerekiyorsa kaldır\n",
    "data.dropna(inplace=True)\n",
    "\n",
    "# Kategorik değişkenleri kodla\n",
    "label_encoders = {}\n",
    "categorical_columns = ['Airline', 'AirportFrom', 'AirportTo']\n",
    "for column in categorical_columns:\n",
    "    le = LabelEncoder()\n",
    "    data[column] = le.fit_transform(data[column])\n",
    "    label_encoders[column] = le\n",
    "\n",
    "# Veriyi X (özellikler) ve y (hedef) olarak böl\n",
    "X = data.drop('Delay', axis=1)\n",
    "y = data['Delay']\n",
    "\n",
    "# Veriyi Eğitim ve Test Kümelerine Ayır\n",
    "X_train, X_test, y_train, y_test = train_test_split(X, y, test_size=0.2, random_state=42)\n",
    "\n",
    "# Özellik Ölçekleme\n",
    "scaler = StandardScaler()\n",
    "X_train = scaler.fit_transform(X_train)\n",
    "X_test = scaler.transform(X_test)\n",
    "\n",
    "# XGBoost için Model Değerlendirmesi  \n",
    "model_xgb = XGBClassifier()  # XGBoost modelini oluştur\n",
    "model_xgb.fit(X_train, y_train)  # XGBoost modelini eğit\n",
    "\n",
    "#LightGBM için Model Seçimi ve Eğitilmesi\n",
    "model_lgbm = LGBMClassifier()  # LightGBM modeli oluştur\n",
    "model_lgbm.fit(X_train, y_train)  # LightGBM modeli eğit\n",
    "\n",
    "# XGBoost için Model Değerlendirmesi\n",
    "y_pred_xgb = model_xgb.predict(X_test)\n",
    "accuracy_xgb = accuracy_score(y_test, y_pred_xgb)\n",
    "report_xgb = classification_report(y_test, y_pred_xgb)\n",
    "print(f'XGBoost Hassasiyeti: {accuracy_xgb}')\n",
    "print(report_xgb)\n",
    "\n",
    "# LightGBM için Model Değerlendirmesi\n",
    "y_pred_lgbm = model_lgbm.predict(X_test)\n",
    "accuracy_lgbm = accuracy_score(y_test, y_pred_lgbm)\n",
    "report_lgbm = classification_report(y_test, y_pred_lgbm)\n",
    "print(f'LightGBM Hassasiyeti: {accuracy_lgbm}')\n",
    "print(report_lgbm)\n",
    "\n",
    "# Model Kıyaslaması\n",
    "models = ['XGBoost', 'LightGBM']\n",
    "accuracies = [accuracy_xgb, accuracy_lgbm]\n",
    "\n",
    "plt.bar(models, accuracies)\n",
    "plt.ylabel('Hassasiyet')\n",
    "plt.title('Model Karşılaştırma Sonucu')\n",
    "plt.show()\n"
   ]
  },
  {
   "cell_type": "code",
   "execution_count": null,
   "id": "18393e20-d3e4-48bb-be55-c3864fdb4fab",
   "metadata": {},
   "outputs": [],
   "source": []
  }
 ],
 "metadata": {
  "kernelspec": {
   "display_name": "Python 3 (ipykernel)",
   "language": "python",
   "name": "python3"
  },
  "language_info": {
   "codemirror_mode": {
    "name": "ipython",
    "version": 3
   },
   "file_extension": ".py",
   "mimetype": "text/x-python",
   "name": "python",
   "nbconvert_exporter": "python",
   "pygments_lexer": "ipython3",
   "version": "3.10.6"
  }
 },
 "nbformat": 4,
 "nbformat_minor": 5
}
